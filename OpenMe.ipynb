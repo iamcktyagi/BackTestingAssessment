{
 "cells": [
  {
   "cell_type": "code",
   "execution_count": 1,
   "id": "5afc395a273467fc",
   "metadata": {
    "ExecuteTime": {
     "end_time": "2023-08-27T09:04:51.505306300Z",
     "start_time": "2023-08-27T09:04:50.743410700Z"
    },
    "collapsed": false,
    "jupyter": {
     "outputs_hidden": false
    }
   },
   "outputs": [],
   "source": [
    "from BtAssessmentMum import BT\n"
   ]
  },
  {
   "cell_type": "code",
   "execution_count": 3,
   "id": "cfae4d64f17af453",
   "metadata": {
    "ExecuteTime": {
     "end_time": "2023-08-27T09:04:51.599058300Z",
     "start_time": "2023-08-27T09:04:51.520935800Z"
    },
    "collapsed": false,
    "jupyter": {
     "outputs_hidden": false
    }
   },
   "outputs": [],
   "source": [
    "\n",
    "bt = BT(ticker=['HDFCBANK', 'SBIN', 'BAJFINANCE'], start_date='2023-07-28 09-15', end_date='2023-08-31 15-30',\n",
    "        bar_interval='1min', quantity=1, capital=1000, stop_loss=.2, target=.2, change_bar_interval_at_start=True,\n",
    "        log=False, pref_sl=True, ordertype='MIS')\n"
   ]
  },
  {
   "cell_type": "code",
   "execution_count": 4,
   "id": "ddb1415bce288c2e",
   "metadata": {
    "ExecuteTime": {
     "end_time": "2023-08-27T09:04:51.849080200Z",
     "start_time": "2023-08-27T09:04:51.536581700Z"
    },
    "collapsed": false,
    "jupyter": {
     "outputs_hidden": false
    }
   },
   "outputs": [
    {
     "data": {
      "text/plain": [
       "dict_keys(['SBIN'])"
      ]
     },
     "execution_count": 4,
     "metadata": {},
     "output_type": "execute_result"
    }
   ],
   "source": [
    "\n",
    "returning_dict = bt.run()\n",
    "returning_dict.keys()\n"
   ]
  },
  {
   "cell_type": "code",
   "execution_count": 5,
   "id": "5ddfe9a5a7436345",
   "metadata": {
    "ExecuteTime": {
     "end_time": "2023-08-27T09:04:51.927187300Z",
     "start_time": "2023-08-27T09:04:51.849080200Z"
    },
    "collapsed": false,
    "jupyter": {
     "outputs_hidden": false
    }
   },
   "outputs": [],
   "source": [
    "returning_dict['HDFCBANK']"
   ]
  },
  {
   "cell_type": "code",
   "execution_count": 10,
   "id": "d23ede854b50226e",
   "metadata": {
    "ExecuteTime": {
     "end_time": "2023-08-27T09:04:51.942819900Z",
     "start_time": "2023-08-27T09:04:51.864697500Z"
    },
    "collapsed": false,
    "jupyter": {
     "outputs_hidden": false
    }
   },
   "outputs": [],
   "source": [
    "returning_dict['SBIN']"
   ]
  },
  {
   "cell_type": "code",
   "execution_count": 7,
   "id": "1f35fdf7b1bf817c",
   "metadata": {
    "ExecuteTime": {
     "end_time": "2023-08-27T09:04:51.942819900Z",
     "start_time": "2023-08-27T09:04:51.895934300Z"
    },
    "collapsed": false,
    "jupyter": {
     "outputs_hidden": false
    }
   },
   "outputs": [],
   "source": [
    "returning_dict['BAJFINANCE']"
   ]
  },
  {
   "cell_type": "code",
   "execution_count": 8,
   "id": "72dda66ed871ab1b",
   "metadata": {
    "ExecuteTime": {
     "end_time": "2023-08-27T09:04:51.989688300Z",
     "start_time": "2023-08-27T09:04:51.911562400Z"
    },
    "collapsed": false,
    "jupyter": {
     "outputs_hidden": false
    }
   },
   "outputs": [],
   "source": [
    "# for x in returning_dict.values():\n",
    "    print(x)"
   ]
  }
 ],
 "metadata": {
  "kernelspec": {
   "display_name": "Python 3 (ipykernel)",
   "language": "python",
   "name": "python3"
  },
  "language_info": {
   "codemirror_mode": {
    "name": "ipython",
    "version": 3
   },
   "file_extension": ".py",
   "mimetype": "text/x-python",
   "name": "python",
   "nbconvert_exporter": "python",
   "pygments_lexer": "ipython3",
   "version": "3.10.6"
  }
 },
 "nbformat": 4,
 "nbformat_minor": 5
}
