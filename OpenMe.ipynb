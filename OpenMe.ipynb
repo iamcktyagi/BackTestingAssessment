{
 "cells": [
  {
   "cell_type": "code",
   "execution_count": 9,
   "id": "5afc395a273467fc",
   "metadata": {
    "collapsed": false,
    "ExecuteTime": {
     "end_time": "2023-09-05T08:39:44.401335500Z",
     "start_time": "2023-09-05T08:39:42.486795700Z"
    }
   },
   "outputs": [],
   "source": [
    "from BtAssessmentLib import BT"
   ]
  },
  {
   "cell_type": "code",
   "execution_count": 10,
   "id": "cfae4d64f17af453",
   "metadata": {
    "collapsed": false,
    "ExecuteTime": {
     "end_time": "2023-09-05T08:39:44.542468Z",
     "start_time": "2023-09-05T08:39:43.382541400Z"
    }
   },
   "outputs": [],
   "source": [
    "\n",
    "bt = BT(ticker=['HDFCBANK', 'SBIN', 'BAJFINANCE'], start_date='2023-07-28 09-15', end_date='2023-08-31 15-30',\n",
    "        bar_interval='1min', quantity=1, capital=100000, stop_loss=.2, target=.2, change_bar_interval_at_start=True,\n",
    "        log=False, pref_sl=True, ordertype='MIS')\n"
   ]
  },
  {
   "cell_type": "code",
   "execution_count": 11,
   "id": "ddb1415bce288c2e",
   "metadata": {
    "collapsed": false,
    "ExecuteTime": {
     "end_time": "2023-09-05T08:39:46.498810700Z",
     "start_time": "2023-09-05T08:39:43.407263200Z"
    }
   },
   "outputs": [
    {
     "data": {
      "text/plain": "dict_keys(['HDFCBANK', 'SBIN', 'BAJFINANCE'])"
     },
     "execution_count": 11,
     "metadata": {},
     "output_type": "execute_result"
    }
   ],
   "source": [
    "\n",
    "returning_dict = bt.run()\n",
    "returning_dict.keys()\n"
   ]
  },
  {
   "cell_type": "code",
   "execution_count": 12,
   "id": "5ddfe9a5a7436345",
   "metadata": {
    "collapsed": false,
    "ExecuteTime": {
     "end_time": "2023-09-05T08:39:46.714439900Z",
     "start_time": "2023-09-05T08:39:46.478625900Z"
    }
   },
   "outputs": [
    {
     "data": {
      "text/plain": "       Ticker       OrderDateTime  InstrumentPrice  Quantity  OrderPrice  \\\n0    HDFCBANK 2023-07-28 09:40:00          1659.00         1     1659.00   \n1    HDFCBANK 2023-07-28 09:41:00          1658.10         1     1658.10   \n2    HDFCBANK 2023-07-28 09:53:00          1658.60         1     1658.60   \n3    HDFCBANK 2023-07-28 09:58:00          1658.60         1     1658.60   \n4    HDFCBANK 2023-07-28 10:27:00          1655.15         1     1655.15   \n..        ...                 ...              ...       ...         ...   \n523  HDFCBANK 2023-08-11 12:38:00          1627.30         1     1627.30   \n524  HDFCBANK 2023-08-11 13:03:00          1627.85         1     1627.85   \n525  HDFCBANK 2023-08-11 13:06:00          1627.00         1     1627.00   \n526  HDFCBANK 2023-08-11 13:07:00          1628.50         1     1628.50   \n527  HDFCBANK 2023-08-11 13:10:00          1627.65         1     1627.65   \n\n     TPPrice  SLPrice OrderSide   Status          Reason       Balance   PnL  \n0    1655.70  1662.30     Short  Running           Entry  1.000000e+08   NaN  \n1    1655.70  1662.30      Long   Closed  Trend Reversed  1.000000e+08  0.90  \n2    1655.30  1661.90     Short  Running           Entry  1.000000e+08   NaN  \n3    1655.30  1661.90      Long   Closed  Trend Reversed  1.000000e+08  0.00  \n4    1651.85  1658.45     Short  Running           Entry  1.000000e+08   NaN  \n..       ...      ...       ...      ...             ...           ...   ...  \n523  1624.20  1630.70      Long   Closed  Trend Reversed  1.000001e+08  0.15  \n524  1624.60  1631.10     Short  Running           Entry  1.000001e+08   NaN  \n525  1624.60  1631.10      Long   Closed  Trend Reversed  1.000001e+08  0.85  \n526  1625.25  1631.75     Short  Running           Entry  1.000001e+08   NaN  \n527  1625.25  1631.75      Long   Closed  Trend Reversed  1.000001e+08  0.85  \n\n[528 rows x 12 columns]",
      "text/html": "<div>\n<style scoped>\n    .dataframe tbody tr th:only-of-type {\n        vertical-align: middle;\n    }\n\n    .dataframe tbody tr th {\n        vertical-align: top;\n    }\n\n    .dataframe thead th {\n        text-align: right;\n    }\n</style>\n<table border=\"1\" class=\"dataframe\">\n  <thead>\n    <tr style=\"text-align: right;\">\n      <th></th>\n      <th>Ticker</th>\n      <th>OrderDateTime</th>\n      <th>InstrumentPrice</th>\n      <th>Quantity</th>\n      <th>OrderPrice</th>\n      <th>TPPrice</th>\n      <th>SLPrice</th>\n      <th>OrderSide</th>\n      <th>Status</th>\n      <th>Reason</th>\n      <th>Balance</th>\n      <th>PnL</th>\n    </tr>\n  </thead>\n  <tbody>\n    <tr>\n      <th>0</th>\n      <td>HDFCBANK</td>\n      <td>2023-07-28 09:40:00</td>\n      <td>1659.00</td>\n      <td>1</td>\n      <td>1659.00</td>\n      <td>1655.70</td>\n      <td>1662.30</td>\n      <td>Short</td>\n      <td>Running</td>\n      <td>Entry</td>\n      <td>1.000000e+08</td>\n      <td>NaN</td>\n    </tr>\n    <tr>\n      <th>1</th>\n      <td>HDFCBANK</td>\n      <td>2023-07-28 09:41:00</td>\n      <td>1658.10</td>\n      <td>1</td>\n      <td>1658.10</td>\n      <td>1655.70</td>\n      <td>1662.30</td>\n      <td>Long</td>\n      <td>Closed</td>\n      <td>Trend Reversed</td>\n      <td>1.000000e+08</td>\n      <td>0.90</td>\n    </tr>\n    <tr>\n      <th>2</th>\n      <td>HDFCBANK</td>\n      <td>2023-07-28 09:53:00</td>\n      <td>1658.60</td>\n      <td>1</td>\n      <td>1658.60</td>\n      <td>1655.30</td>\n      <td>1661.90</td>\n      <td>Short</td>\n      <td>Running</td>\n      <td>Entry</td>\n      <td>1.000000e+08</td>\n      <td>NaN</td>\n    </tr>\n    <tr>\n      <th>3</th>\n      <td>HDFCBANK</td>\n      <td>2023-07-28 09:58:00</td>\n      <td>1658.60</td>\n      <td>1</td>\n      <td>1658.60</td>\n      <td>1655.30</td>\n      <td>1661.90</td>\n      <td>Long</td>\n      <td>Closed</td>\n      <td>Trend Reversed</td>\n      <td>1.000000e+08</td>\n      <td>0.00</td>\n    </tr>\n    <tr>\n      <th>4</th>\n      <td>HDFCBANK</td>\n      <td>2023-07-28 10:27:00</td>\n      <td>1655.15</td>\n      <td>1</td>\n      <td>1655.15</td>\n      <td>1651.85</td>\n      <td>1658.45</td>\n      <td>Short</td>\n      <td>Running</td>\n      <td>Entry</td>\n      <td>1.000000e+08</td>\n      <td>NaN</td>\n    </tr>\n    <tr>\n      <th>...</th>\n      <td>...</td>\n      <td>...</td>\n      <td>...</td>\n      <td>...</td>\n      <td>...</td>\n      <td>...</td>\n      <td>...</td>\n      <td>...</td>\n      <td>...</td>\n      <td>...</td>\n      <td>...</td>\n      <td>...</td>\n    </tr>\n    <tr>\n      <th>523</th>\n      <td>HDFCBANK</td>\n      <td>2023-08-11 12:38:00</td>\n      <td>1627.30</td>\n      <td>1</td>\n      <td>1627.30</td>\n      <td>1624.20</td>\n      <td>1630.70</td>\n      <td>Long</td>\n      <td>Closed</td>\n      <td>Trend Reversed</td>\n      <td>1.000001e+08</td>\n      <td>0.15</td>\n    </tr>\n    <tr>\n      <th>524</th>\n      <td>HDFCBANK</td>\n      <td>2023-08-11 13:03:00</td>\n      <td>1627.85</td>\n      <td>1</td>\n      <td>1627.85</td>\n      <td>1624.60</td>\n      <td>1631.10</td>\n      <td>Short</td>\n      <td>Running</td>\n      <td>Entry</td>\n      <td>1.000001e+08</td>\n      <td>NaN</td>\n    </tr>\n    <tr>\n      <th>525</th>\n      <td>HDFCBANK</td>\n      <td>2023-08-11 13:06:00</td>\n      <td>1627.00</td>\n      <td>1</td>\n      <td>1627.00</td>\n      <td>1624.60</td>\n      <td>1631.10</td>\n      <td>Long</td>\n      <td>Closed</td>\n      <td>Trend Reversed</td>\n      <td>1.000001e+08</td>\n      <td>0.85</td>\n    </tr>\n    <tr>\n      <th>526</th>\n      <td>HDFCBANK</td>\n      <td>2023-08-11 13:07:00</td>\n      <td>1628.50</td>\n      <td>1</td>\n      <td>1628.50</td>\n      <td>1625.25</td>\n      <td>1631.75</td>\n      <td>Short</td>\n      <td>Running</td>\n      <td>Entry</td>\n      <td>1.000001e+08</td>\n      <td>NaN</td>\n    </tr>\n    <tr>\n      <th>527</th>\n      <td>HDFCBANK</td>\n      <td>2023-08-11 13:10:00</td>\n      <td>1627.65</td>\n      <td>1</td>\n      <td>1627.65</td>\n      <td>1625.25</td>\n      <td>1631.75</td>\n      <td>Long</td>\n      <td>Closed</td>\n      <td>Trend Reversed</td>\n      <td>1.000001e+08</td>\n      <td>0.85</td>\n    </tr>\n  </tbody>\n</table>\n<p>528 rows × 12 columns</p>\n</div>"
     },
     "execution_count": 12,
     "metadata": {},
     "output_type": "execute_result"
    }
   ],
   "source": [
    "returning_dict['HDFCBANK']"
   ]
  },
  {
   "cell_type": "code",
   "execution_count": 13,
   "id": "d23ede854b50226e",
   "metadata": {
    "collapsed": false,
    "ExecuteTime": {
     "end_time": "2023-09-05T08:39:46.750382Z",
     "start_time": "2023-09-05T08:39:46.541652400Z"
    }
   },
   "outputs": [
    {
     "data": {
      "text/plain": "    Ticker       OrderDateTime  InstrumentPrice  Quantity  OrderPrice  \\\n0     SBIN 2023-07-28 09:35:00           616.90         1      616.90   \n1     SBIN 2023-07-28 09:39:00           618.15         1      618.15   \n2     SBIN 2023-07-28 09:40:00           618.05         1      618.05   \n3     SBIN 2023-07-28 09:45:00           618.00         1      618.00   \n4     SBIN 2023-07-28 09:47:00           618.05         1      618.05   \n..     ...                 ...              ...       ...         ...   \n507   SBIN 2023-08-11 12:49:00           576.60         1      576.60   \n508   SBIN 2023-08-11 13:03:00           577.30         1      577.30   \n509   SBIN 2023-08-11 13:07:00           578.45         1      578.45   \n510   SBIN 2023-08-11 13:08:00           578.10         1      578.10   \n511   SBIN 2023-08-11 13:12:00           577.45         1      577.45   \n\n     TPPrice  SLPrice OrderSide   Status          Reason       Balance   PnL  \n0     615.65   618.15     Short  Running           Entry  1.000000e+08   NaN  \n1     615.65   618.15      Long   Closed          SL Hit  1.000000e+08 -1.25  \n2     616.80   619.30     Short  Running           Entry  1.000000e+08   NaN  \n3     616.80   619.30      Long   Closed  Trend Reversed  1.000000e+08  0.05  \n4     616.80   619.30     Short  Running           Entry  1.000000e+08   NaN  \n..       ...      ...       ...      ...             ...           ...   ...  \n507   576.00   578.30      Long   Closed  Trend Reversed  1.000000e+08  0.55  \n508   576.15   578.45     Short  Running           Entry  1.000000e+08   NaN  \n509   576.15   578.45      Long   Closed          SL Hit  1.000000e+08 -1.15  \n510   576.95   579.25     Short  Running           Entry  1.000000e+08   NaN  \n511   576.95   579.25      Long   Closed  Trend Reversed  1.000000e+08  0.65  \n\n[512 rows x 12 columns]",
      "text/html": "<div>\n<style scoped>\n    .dataframe tbody tr th:only-of-type {\n        vertical-align: middle;\n    }\n\n    .dataframe tbody tr th {\n        vertical-align: top;\n    }\n\n    .dataframe thead th {\n        text-align: right;\n    }\n</style>\n<table border=\"1\" class=\"dataframe\">\n  <thead>\n    <tr style=\"text-align: right;\">\n      <th></th>\n      <th>Ticker</th>\n      <th>OrderDateTime</th>\n      <th>InstrumentPrice</th>\n      <th>Quantity</th>\n      <th>OrderPrice</th>\n      <th>TPPrice</th>\n      <th>SLPrice</th>\n      <th>OrderSide</th>\n      <th>Status</th>\n      <th>Reason</th>\n      <th>Balance</th>\n      <th>PnL</th>\n    </tr>\n  </thead>\n  <tbody>\n    <tr>\n      <th>0</th>\n      <td>SBIN</td>\n      <td>2023-07-28 09:35:00</td>\n      <td>616.90</td>\n      <td>1</td>\n      <td>616.90</td>\n      <td>615.65</td>\n      <td>618.15</td>\n      <td>Short</td>\n      <td>Running</td>\n      <td>Entry</td>\n      <td>1.000000e+08</td>\n      <td>NaN</td>\n    </tr>\n    <tr>\n      <th>1</th>\n      <td>SBIN</td>\n      <td>2023-07-28 09:39:00</td>\n      <td>618.15</td>\n      <td>1</td>\n      <td>618.15</td>\n      <td>615.65</td>\n      <td>618.15</td>\n      <td>Long</td>\n      <td>Closed</td>\n      <td>SL Hit</td>\n      <td>1.000000e+08</td>\n      <td>-1.25</td>\n    </tr>\n    <tr>\n      <th>2</th>\n      <td>SBIN</td>\n      <td>2023-07-28 09:40:00</td>\n      <td>618.05</td>\n      <td>1</td>\n      <td>618.05</td>\n      <td>616.80</td>\n      <td>619.30</td>\n      <td>Short</td>\n      <td>Running</td>\n      <td>Entry</td>\n      <td>1.000000e+08</td>\n      <td>NaN</td>\n    </tr>\n    <tr>\n      <th>3</th>\n      <td>SBIN</td>\n      <td>2023-07-28 09:45:00</td>\n      <td>618.00</td>\n      <td>1</td>\n      <td>618.00</td>\n      <td>616.80</td>\n      <td>619.30</td>\n      <td>Long</td>\n      <td>Closed</td>\n      <td>Trend Reversed</td>\n      <td>1.000000e+08</td>\n      <td>0.05</td>\n    </tr>\n    <tr>\n      <th>4</th>\n      <td>SBIN</td>\n      <td>2023-07-28 09:47:00</td>\n      <td>618.05</td>\n      <td>1</td>\n      <td>618.05</td>\n      <td>616.80</td>\n      <td>619.30</td>\n      <td>Short</td>\n      <td>Running</td>\n      <td>Entry</td>\n      <td>1.000000e+08</td>\n      <td>NaN</td>\n    </tr>\n    <tr>\n      <th>...</th>\n      <td>...</td>\n      <td>...</td>\n      <td>...</td>\n      <td>...</td>\n      <td>...</td>\n      <td>...</td>\n      <td>...</td>\n      <td>...</td>\n      <td>...</td>\n      <td>...</td>\n      <td>...</td>\n      <td>...</td>\n    </tr>\n    <tr>\n      <th>507</th>\n      <td>SBIN</td>\n      <td>2023-08-11 12:49:00</td>\n      <td>576.60</td>\n      <td>1</td>\n      <td>576.60</td>\n      <td>576.00</td>\n      <td>578.30</td>\n      <td>Long</td>\n      <td>Closed</td>\n      <td>Trend Reversed</td>\n      <td>1.000000e+08</td>\n      <td>0.55</td>\n    </tr>\n    <tr>\n      <th>508</th>\n      <td>SBIN</td>\n      <td>2023-08-11 13:03:00</td>\n      <td>577.30</td>\n      <td>1</td>\n      <td>577.30</td>\n      <td>576.15</td>\n      <td>578.45</td>\n      <td>Short</td>\n      <td>Running</td>\n      <td>Entry</td>\n      <td>1.000000e+08</td>\n      <td>NaN</td>\n    </tr>\n    <tr>\n      <th>509</th>\n      <td>SBIN</td>\n      <td>2023-08-11 13:07:00</td>\n      <td>578.45</td>\n      <td>1</td>\n      <td>578.45</td>\n      <td>576.15</td>\n      <td>578.45</td>\n      <td>Long</td>\n      <td>Closed</td>\n      <td>SL Hit</td>\n      <td>1.000000e+08</td>\n      <td>-1.15</td>\n    </tr>\n    <tr>\n      <th>510</th>\n      <td>SBIN</td>\n      <td>2023-08-11 13:08:00</td>\n      <td>578.10</td>\n      <td>1</td>\n      <td>578.10</td>\n      <td>576.95</td>\n      <td>579.25</td>\n      <td>Short</td>\n      <td>Running</td>\n      <td>Entry</td>\n      <td>1.000000e+08</td>\n      <td>NaN</td>\n    </tr>\n    <tr>\n      <th>511</th>\n      <td>SBIN</td>\n      <td>2023-08-11 13:12:00</td>\n      <td>577.45</td>\n      <td>1</td>\n      <td>577.45</td>\n      <td>576.95</td>\n      <td>579.25</td>\n      <td>Long</td>\n      <td>Closed</td>\n      <td>Trend Reversed</td>\n      <td>1.000000e+08</td>\n      <td>0.65</td>\n    </tr>\n  </tbody>\n</table>\n<p>512 rows × 12 columns</p>\n</div>"
     },
     "execution_count": 13,
     "metadata": {},
     "output_type": "execute_result"
    }
   ],
   "source": [
    "returning_dict['SBIN']"
   ]
  },
  {
   "cell_type": "code",
   "execution_count": 14,
   "id": "1f35fdf7b1bf817c",
   "metadata": {
    "collapsed": false,
    "ExecuteTime": {
     "end_time": "2023-09-05T08:39:46.900609100Z",
     "start_time": "2023-09-05T08:39:46.651472500Z"
    }
   },
   "outputs": [
    {
     "data": {
      "text/plain": "         Ticker       OrderDateTime  InstrumentPrice  Quantity  OrderPrice  \\\n0    BAJFINANCE 2023-07-28 09:40:00          7285.25         1     7285.25   \n1    BAJFINANCE 2023-07-28 09:42:00          7280.00         1     7280.00   \n2    BAJFINANCE 2023-07-28 09:43:00          7284.00         1     7284.00   \n3    BAJFINANCE 2023-07-28 09:44:00          7282.00         1     7282.00   \n4    BAJFINANCE 2023-07-28 09:55:00          7288.85         1     7288.85   \n..          ...                 ...              ...       ...         ...   \n537  BAJFINANCE 2023-08-11 13:10:00          7129.35         1     7129.35   \n538  BAJFINANCE 2023-08-11 13:11:00          7131.80         1     7131.80   \n539  BAJFINANCE 2023-08-11 13:12:00          7129.85         1     7129.85   \n540  BAJFINANCE 2023-08-11 13:15:00          7128.85         1     7128.85   \n541  BAJFINANCE 2023-08-11 13:16:00          7128.85         1     7128.85   \n\n     TPPrice  SLPrice OrderSide   Status          Reason       Balance   PnL  \n0    7270.70  7299.80     Short  Running           Entry  1.000000e+08   NaN  \n1    7270.70  7299.80      Long   Closed  Trend Reversed  1.000000e+08  5.25  \n2    7269.45  7298.55     Short  Running           Entry  1.000000e+08   NaN  \n3    7269.45  7298.55      Long   Closed  Trend Reversed  1.000000e+08  2.00  \n4    7274.25  7303.45     Short  Running           Entry  1.000000e+08   NaN  \n..       ...      ...       ...      ...             ...           ...   ...  \n537  7114.75  7143.25      Long   Closed  Trend Reversed  1.000003e+08 -0.35  \n538  7117.55  7146.05     Short  Running           Entry  1.000003e+08   NaN  \n539  7117.55  7146.05      Long   Closed  Trend Reversed  1.000003e+08  1.95  \n540  7114.60  7143.10     Short  Running           Entry  1.000003e+08   NaN  \n541  7114.60  7143.10      Long   Closed  Trend Reversed  1.000003e+08  0.00  \n\n[542 rows x 12 columns]",
      "text/html": "<div>\n<style scoped>\n    .dataframe tbody tr th:only-of-type {\n        vertical-align: middle;\n    }\n\n    .dataframe tbody tr th {\n        vertical-align: top;\n    }\n\n    .dataframe thead th {\n        text-align: right;\n    }\n</style>\n<table border=\"1\" class=\"dataframe\">\n  <thead>\n    <tr style=\"text-align: right;\">\n      <th></th>\n      <th>Ticker</th>\n      <th>OrderDateTime</th>\n      <th>InstrumentPrice</th>\n      <th>Quantity</th>\n      <th>OrderPrice</th>\n      <th>TPPrice</th>\n      <th>SLPrice</th>\n      <th>OrderSide</th>\n      <th>Status</th>\n      <th>Reason</th>\n      <th>Balance</th>\n      <th>PnL</th>\n    </tr>\n  </thead>\n  <tbody>\n    <tr>\n      <th>0</th>\n      <td>BAJFINANCE</td>\n      <td>2023-07-28 09:40:00</td>\n      <td>7285.25</td>\n      <td>1</td>\n      <td>7285.25</td>\n      <td>7270.70</td>\n      <td>7299.80</td>\n      <td>Short</td>\n      <td>Running</td>\n      <td>Entry</td>\n      <td>1.000000e+08</td>\n      <td>NaN</td>\n    </tr>\n    <tr>\n      <th>1</th>\n      <td>BAJFINANCE</td>\n      <td>2023-07-28 09:42:00</td>\n      <td>7280.00</td>\n      <td>1</td>\n      <td>7280.00</td>\n      <td>7270.70</td>\n      <td>7299.80</td>\n      <td>Long</td>\n      <td>Closed</td>\n      <td>Trend Reversed</td>\n      <td>1.000000e+08</td>\n      <td>5.25</td>\n    </tr>\n    <tr>\n      <th>2</th>\n      <td>BAJFINANCE</td>\n      <td>2023-07-28 09:43:00</td>\n      <td>7284.00</td>\n      <td>1</td>\n      <td>7284.00</td>\n      <td>7269.45</td>\n      <td>7298.55</td>\n      <td>Short</td>\n      <td>Running</td>\n      <td>Entry</td>\n      <td>1.000000e+08</td>\n      <td>NaN</td>\n    </tr>\n    <tr>\n      <th>3</th>\n      <td>BAJFINANCE</td>\n      <td>2023-07-28 09:44:00</td>\n      <td>7282.00</td>\n      <td>1</td>\n      <td>7282.00</td>\n      <td>7269.45</td>\n      <td>7298.55</td>\n      <td>Long</td>\n      <td>Closed</td>\n      <td>Trend Reversed</td>\n      <td>1.000000e+08</td>\n      <td>2.00</td>\n    </tr>\n    <tr>\n      <th>4</th>\n      <td>BAJFINANCE</td>\n      <td>2023-07-28 09:55:00</td>\n      <td>7288.85</td>\n      <td>1</td>\n      <td>7288.85</td>\n      <td>7274.25</td>\n      <td>7303.45</td>\n      <td>Short</td>\n      <td>Running</td>\n      <td>Entry</td>\n      <td>1.000000e+08</td>\n      <td>NaN</td>\n    </tr>\n    <tr>\n      <th>...</th>\n      <td>...</td>\n      <td>...</td>\n      <td>...</td>\n      <td>...</td>\n      <td>...</td>\n      <td>...</td>\n      <td>...</td>\n      <td>...</td>\n      <td>...</td>\n      <td>...</td>\n      <td>...</td>\n      <td>...</td>\n    </tr>\n    <tr>\n      <th>537</th>\n      <td>BAJFINANCE</td>\n      <td>2023-08-11 13:10:00</td>\n      <td>7129.35</td>\n      <td>1</td>\n      <td>7129.35</td>\n      <td>7114.75</td>\n      <td>7143.25</td>\n      <td>Long</td>\n      <td>Closed</td>\n      <td>Trend Reversed</td>\n      <td>1.000003e+08</td>\n      <td>-0.35</td>\n    </tr>\n    <tr>\n      <th>538</th>\n      <td>BAJFINANCE</td>\n      <td>2023-08-11 13:11:00</td>\n      <td>7131.80</td>\n      <td>1</td>\n      <td>7131.80</td>\n      <td>7117.55</td>\n      <td>7146.05</td>\n      <td>Short</td>\n      <td>Running</td>\n      <td>Entry</td>\n      <td>1.000003e+08</td>\n      <td>NaN</td>\n    </tr>\n    <tr>\n      <th>539</th>\n      <td>BAJFINANCE</td>\n      <td>2023-08-11 13:12:00</td>\n      <td>7129.85</td>\n      <td>1</td>\n      <td>7129.85</td>\n      <td>7117.55</td>\n      <td>7146.05</td>\n      <td>Long</td>\n      <td>Closed</td>\n      <td>Trend Reversed</td>\n      <td>1.000003e+08</td>\n      <td>1.95</td>\n    </tr>\n    <tr>\n      <th>540</th>\n      <td>BAJFINANCE</td>\n      <td>2023-08-11 13:15:00</td>\n      <td>7128.85</td>\n      <td>1</td>\n      <td>7128.85</td>\n      <td>7114.60</td>\n      <td>7143.10</td>\n      <td>Short</td>\n      <td>Running</td>\n      <td>Entry</td>\n      <td>1.000003e+08</td>\n      <td>NaN</td>\n    </tr>\n    <tr>\n      <th>541</th>\n      <td>BAJFINANCE</td>\n      <td>2023-08-11 13:16:00</td>\n      <td>7128.85</td>\n      <td>1</td>\n      <td>7128.85</td>\n      <td>7114.60</td>\n      <td>7143.10</td>\n      <td>Long</td>\n      <td>Closed</td>\n      <td>Trend Reversed</td>\n      <td>1.000003e+08</td>\n      <td>0.00</td>\n    </tr>\n  </tbody>\n</table>\n<p>542 rows × 12 columns</p>\n</div>"
     },
     "execution_count": 14,
     "metadata": {},
     "output_type": "execute_result"
    }
   ],
   "source": [
    "returning_dict['BAJFINANCE']"
   ]
  },
  {
   "cell_type": "code",
   "execution_count": 15,
   "id": "72dda66ed871ab1b",
   "metadata": {
    "collapsed": false,
    "ExecuteTime": {
     "end_time": "2023-09-05T08:39:47.863988300Z",
     "start_time": "2023-09-05T08:39:46.750292400Z"
    }
   },
   "outputs": [
    {
     "name": "stdout",
     "output_type": "stream",
     "text": [
      "       Ticker       OrderDateTime  InstrumentPrice  Quantity  OrderPrice  \\\n",
      "0    HDFCBANK 2023-07-28 09:40:00          1659.00         1     1659.00   \n",
      "1    HDFCBANK 2023-07-28 09:41:00          1658.10         1     1658.10   \n",
      "2    HDFCBANK 2023-07-28 09:53:00          1658.60         1     1658.60   \n",
      "3    HDFCBANK 2023-07-28 09:58:00          1658.60         1     1658.60   \n",
      "4    HDFCBANK 2023-07-28 10:27:00          1655.15         1     1655.15   \n",
      "..        ...                 ...              ...       ...         ...   \n",
      "523  HDFCBANK 2023-08-11 12:38:00          1627.30         1     1627.30   \n",
      "524  HDFCBANK 2023-08-11 13:03:00          1627.85         1     1627.85   \n",
      "525  HDFCBANK 2023-08-11 13:06:00          1627.00         1     1627.00   \n",
      "526  HDFCBANK 2023-08-11 13:07:00          1628.50         1     1628.50   \n",
      "527  HDFCBANK 2023-08-11 13:10:00          1627.65         1     1627.65   \n",
      "\n",
      "     TPPrice  SLPrice OrderSide   Status          Reason       Balance   PnL  \n",
      "0    1655.70  1662.30     Short  Running           Entry  1.000000e+08   NaN  \n",
      "1    1655.70  1662.30      Long   Closed  Trend Reversed  1.000000e+08  0.90  \n",
      "2    1655.30  1661.90     Short  Running           Entry  1.000000e+08   NaN  \n",
      "3    1655.30  1661.90      Long   Closed  Trend Reversed  1.000000e+08  0.00  \n",
      "4    1651.85  1658.45     Short  Running           Entry  1.000000e+08   NaN  \n",
      "..       ...      ...       ...      ...             ...           ...   ...  \n",
      "523  1624.20  1630.70      Long   Closed  Trend Reversed  1.000001e+08  0.15  \n",
      "524  1624.60  1631.10     Short  Running           Entry  1.000001e+08   NaN  \n",
      "525  1624.60  1631.10      Long   Closed  Trend Reversed  1.000001e+08  0.85  \n",
      "526  1625.25  1631.75     Short  Running           Entry  1.000001e+08   NaN  \n",
      "527  1625.25  1631.75      Long   Closed  Trend Reversed  1.000001e+08  0.85  \n",
      "\n",
      "[528 rows x 12 columns]\n",
      "    Ticker       OrderDateTime  InstrumentPrice  Quantity  OrderPrice  \\\n",
      "0     SBIN 2023-07-28 09:35:00           616.90         1      616.90   \n",
      "1     SBIN 2023-07-28 09:39:00           618.15         1      618.15   \n",
      "2     SBIN 2023-07-28 09:40:00           618.05         1      618.05   \n",
      "3     SBIN 2023-07-28 09:45:00           618.00         1      618.00   \n",
      "4     SBIN 2023-07-28 09:47:00           618.05         1      618.05   \n",
      "..     ...                 ...              ...       ...         ...   \n",
      "507   SBIN 2023-08-11 12:49:00           576.60         1      576.60   \n",
      "508   SBIN 2023-08-11 13:03:00           577.30         1      577.30   \n",
      "509   SBIN 2023-08-11 13:07:00           578.45         1      578.45   \n",
      "510   SBIN 2023-08-11 13:08:00           578.10         1      578.10   \n",
      "511   SBIN 2023-08-11 13:12:00           577.45         1      577.45   \n",
      "\n",
      "     TPPrice  SLPrice OrderSide   Status          Reason       Balance   PnL  \n",
      "0     615.65   618.15     Short  Running           Entry  1.000000e+08   NaN  \n",
      "1     615.65   618.15      Long   Closed          SL Hit  1.000000e+08 -1.25  \n",
      "2     616.80   619.30     Short  Running           Entry  1.000000e+08   NaN  \n",
      "3     616.80   619.30      Long   Closed  Trend Reversed  1.000000e+08  0.05  \n",
      "4     616.80   619.30     Short  Running           Entry  1.000000e+08   NaN  \n",
      "..       ...      ...       ...      ...             ...           ...   ...  \n",
      "507   576.00   578.30      Long   Closed  Trend Reversed  1.000000e+08  0.55  \n",
      "508   576.15   578.45     Short  Running           Entry  1.000000e+08   NaN  \n",
      "509   576.15   578.45      Long   Closed          SL Hit  1.000000e+08 -1.15  \n",
      "510   576.95   579.25     Short  Running           Entry  1.000000e+08   NaN  \n",
      "511   576.95   579.25      Long   Closed  Trend Reversed  1.000000e+08  0.65  \n",
      "\n",
      "[512 rows x 12 columns]\n",
      "         Ticker       OrderDateTime  InstrumentPrice  Quantity  OrderPrice  \\\n",
      "0    BAJFINANCE 2023-07-28 09:40:00          7285.25         1     7285.25   \n",
      "1    BAJFINANCE 2023-07-28 09:42:00          7280.00         1     7280.00   \n",
      "2    BAJFINANCE 2023-07-28 09:43:00          7284.00         1     7284.00   \n",
      "3    BAJFINANCE 2023-07-28 09:44:00          7282.00         1     7282.00   \n",
      "4    BAJFINANCE 2023-07-28 09:55:00          7288.85         1     7288.85   \n",
      "..          ...                 ...              ...       ...         ...   \n",
      "537  BAJFINANCE 2023-08-11 13:10:00          7129.35         1     7129.35   \n",
      "538  BAJFINANCE 2023-08-11 13:11:00          7131.80         1     7131.80   \n",
      "539  BAJFINANCE 2023-08-11 13:12:00          7129.85         1     7129.85   \n",
      "540  BAJFINANCE 2023-08-11 13:15:00          7128.85         1     7128.85   \n",
      "541  BAJFINANCE 2023-08-11 13:16:00          7128.85         1     7128.85   \n",
      "\n",
      "     TPPrice  SLPrice OrderSide   Status          Reason       Balance   PnL  \n",
      "0    7270.70  7299.80     Short  Running           Entry  1.000000e+08   NaN  \n",
      "1    7270.70  7299.80      Long   Closed  Trend Reversed  1.000000e+08  5.25  \n",
      "2    7269.45  7298.55     Short  Running           Entry  1.000000e+08   NaN  \n",
      "3    7269.45  7298.55      Long   Closed  Trend Reversed  1.000000e+08  2.00  \n",
      "4    7274.25  7303.45     Short  Running           Entry  1.000000e+08   NaN  \n",
      "..       ...      ...       ...      ...             ...           ...   ...  \n",
      "537  7114.75  7143.25      Long   Closed  Trend Reversed  1.000003e+08 -0.35  \n",
      "538  7117.55  7146.05     Short  Running           Entry  1.000003e+08   NaN  \n",
      "539  7117.55  7146.05      Long   Closed  Trend Reversed  1.000003e+08  1.95  \n",
      "540  7114.60  7143.10     Short  Running           Entry  1.000003e+08   NaN  \n",
      "541  7114.60  7143.10      Long   Closed  Trend Reversed  1.000003e+08  0.00  \n",
      "\n",
      "[542 rows x 12 columns]\n"
     ]
    }
   ],
   "source": [
    "for x in returning_dict.values():\n",
    "    print(x)"
   ]
  },
  {
   "cell_type": "code",
   "execution_count": 16,
   "id": "e6d39fb3-c8e8-4d8b-9b7f-436da1d303c2",
   "metadata": {
    "ExecuteTime": {
     "end_time": "2023-09-05T08:39:49.362503Z",
     "start_time": "2023-09-05T08:39:47.832726800Z"
    }
   },
   "outputs": [
    {
     "data": {
      "application/vnd.plotly.v1+json": {
       "data": [
        {
         "hoverinfo": "y+text",
         "hovertext": [
          "2023-07-28T09:35:00",
          "2023-07-28T09:39:00",
          "2023-07-28T09:40:00",
          "2023-07-28T09:45:00",
          "2023-07-28T09:47:00",
          "2023-07-28T09:50:00",
          "2023-07-28T09:51:00",
          "2023-07-28T09:58:00",
          "2023-07-28T10:12:00",
          "2023-07-28T10:13:00",
          "2023-07-28T10:14:00",
          "2023-07-28T10:18:00",
          "2023-07-28T10:38:00",
          "2023-07-28T10:39:00",
          "2023-07-28T10:43:00",
          "2023-07-28T10:45:00",
          "2023-07-28T10:47:00",
          "2023-07-28T10:48:00",
          "2023-07-28T11:34:00",
          "2023-07-28T11:38:00",
          "2023-07-28T12:12:00",
          "2023-07-28T12:13:00",
          "2023-07-28T12:15:00",
          "2023-07-28T12:18:00",
          "2023-07-28T12:23:00",
          "2023-07-28T12:24:00",
          "2023-07-28T12:39:00",
          "2023-07-28T12:46:00",
          "2023-07-28T13:06:00",
          "2023-07-28T13:07:00",
          "2023-07-28T13:12:00",
          "2023-07-28T13:13:00",
          "2023-07-28T13:35:00",
          "2023-07-28T13:37:00",
          "2023-07-28T13:38:00",
          "2023-07-28T13:39:00",
          "2023-07-28T13:59:00",
          "2023-07-28T14:02:00",
          "2023-07-28T14:06:00",
          "2023-07-28T14:11:00",
          "2023-07-28T14:12:00",
          "2023-07-28T14:13:00",
          "2023-07-28T14:15:00",
          "2023-07-28T14:17:00",
          "2023-07-28T14:23:00",
          "2023-07-28T14:30:00",
          "2023-07-28T14:31:00",
          "2023-07-28T14:35:00",
          "2023-07-28T14:37:00",
          "2023-07-28T14:38:00",
          "2023-07-28T14:42:00",
          "2023-07-28T14:43:00",
          "2023-07-28T14:47:00",
          "2023-07-28T14:52:00",
          "2023-07-29T09:16:00",
          "2023-07-29T09:25:00",
          "2023-07-31T09:25:00",
          "2023-07-31T09:31:00",
          "2023-07-31T09:40:00",
          "2023-07-31T09:41:00",
          "2023-07-31T09:42:00",
          "2023-07-31T09:46:00",
          "2023-07-31T09:49:00",
          "2023-07-31T09:53:00",
          "2023-07-31T09:54:00",
          "2023-07-31T09:56:00",
          "2023-07-31T10:00:00",
          "2023-07-31T10:02:00",
          "2023-07-31T10:03:00",
          "2023-07-31T10:06:00",
          "2023-07-31T10:07:00",
          "2023-07-31T10:13:00",
          "2023-07-31T10:42:00",
          "2023-07-31T10:44:00",
          "2023-07-31T10:47:00",
          "2023-07-31T10:48:00",
          "2023-07-31T10:49:00",
          "2023-07-31T10:55:00",
          "2023-07-31T10:56:00",
          "2023-07-31T10:58:00",
          "2023-07-31T11:04:00",
          "2023-07-31T11:08:00",
          "2023-07-31T11:21:00",
          "2023-07-31T11:22:00",
          "2023-07-31T11:26:00",
          "2023-07-31T11:27:00",
          "2023-07-31T11:28:00",
          "2023-07-31T11:34:00",
          "2023-07-31T12:44:00",
          "2023-07-31T12:46:00",
          "2023-07-31T12:48:00",
          "2023-07-31T12:54:00",
          "2023-07-31T12:56:00",
          "2023-07-31T12:57:00",
          "2023-07-31T13:05:00",
          "2023-07-31T13:06:00",
          "2023-07-31T13:12:00",
          "2023-07-31T13:15:00",
          "2023-07-31T13:18:00",
          "2023-07-31T13:21:00",
          "2023-07-31T13:22:00",
          "2023-07-31T13:24:00",
          "2023-07-31T13:55:00",
          "2023-07-31T13:56:00",
          "2023-07-31T14:16:00",
          "2023-07-31T14:24:00",
          "2023-07-31T14:26:00",
          "2023-07-31T14:28:00",
          "2023-07-31T14:31:00",
          "2023-07-31T14:33:00",
          "2023-07-31T14:37:00",
          "2023-07-31T14:40:00",
          "2023-07-31T14:41:00",
          "2023-07-31T14:43:00",
          "2023-07-31T14:52:00",
          "2023-07-31T14:58:00",
          "2023-07-31T15:01:00",
          "2023-07-31T15:06:00",
          "2023-07-31T15:08:00",
          "2023-07-31T15:15:00",
          "2023-08-01T09:31:00",
          "2023-08-01T09:36:00",
          "2023-08-01T10:00:00",
          "2023-08-01T10:04:00",
          "2023-08-01T10:06:00",
          "2023-08-01T10:11:00",
          "2023-08-01T10:14:00",
          "2023-08-01T10:16:00",
          "2023-08-01T11:59:00",
          "2023-08-01T12:00:00",
          "2023-08-01T12:52:00",
          "2023-08-01T12:59:00",
          "2023-08-01T13:00:00",
          "2023-08-01T13:04:00",
          "2023-08-01T13:06:00",
          "2023-08-01T13:07:00",
          "2023-08-01T13:14:00",
          "2023-08-01T13:17:00",
          "2023-08-01T13:19:00",
          "2023-08-01T13:21:00",
          "2023-08-01T13:30:00",
          "2023-08-01T13:39:00",
          "2023-08-01T13:40:00",
          "2023-08-01T13:41:00",
          "2023-08-01T14:22:00",
          "2023-08-01T14:23:00",
          "2023-08-01T14:25:00",
          "2023-08-01T14:26:00",
          "2023-08-01T14:27:00",
          "2023-08-01T14:31:00",
          "2023-08-01T14:32:00",
          "2023-08-01T14:36:00",
          "2023-08-01T14:40:00",
          "2023-08-01T14:41:00",
          "2023-08-01T14:42:00",
          "2023-08-01T14:43:00",
          "2023-08-02T09:35:00",
          "2023-08-02T09:39:00",
          "2023-08-02T09:40:00",
          "2023-08-02T09:45:00",
          "2023-08-02T09:58:00",
          "2023-08-02T10:02:00",
          "2023-08-02T11:25:00",
          "2023-08-02T11:26:00",
          "2023-08-02T12:07:00",
          "2023-08-02T12:08:00",
          "2023-08-02T12:10:00",
          "2023-08-02T12:13:00",
          "2023-08-02T12:16:00",
          "2023-08-02T12:17:00",
          "2023-08-02T12:25:00",
          "2023-08-02T12:26:00",
          "2023-08-02T12:31:00",
          "2023-08-02T12:39:00",
          "2023-08-02T12:40:00",
          "2023-08-02T12:44:00",
          "2023-08-02T13:13:00",
          "2023-08-02T13:14:00",
          "2023-08-02T13:56:00",
          "2023-08-02T13:57:00",
          "2023-08-02T14:03:00",
          "2023-08-02T14:05:00",
          "2023-08-02T14:08:00",
          "2023-08-02T14:10:00",
          "2023-08-02T14:38:00",
          "2023-08-02T14:39:00",
          "2023-08-02T14:40:00",
          "2023-08-02T14:43:00",
          "2023-08-02T14:44:00",
          "2023-08-02T14:49:00",
          "2023-08-02T14:50:00",
          "2023-08-02T14:51:00",
          "2023-08-02T14:56:00",
          "2023-08-02T15:03:00",
          "2023-08-02T15:12:00",
          "2023-08-02T15:13:00",
          "2023-08-02T15:14:00",
          "2023-08-02T15:15:00",
          "2023-08-03T09:28:00",
          "2023-08-03T09:29:00",
          "2023-08-03T09:30:00",
          "2023-08-03T09:33:00",
          "2023-08-03T09:52:00",
          "2023-08-03T09:56:00",
          "2023-08-03T09:57:00",
          "2023-08-03T09:57:00",
          "2023-08-03T10:30:00",
          "2023-08-03T10:35:00",
          "2023-08-03T10:56:00",
          "2023-08-03T10:58:00",
          "2023-08-03T11:03:00",
          "2023-08-03T11:07:00",
          "2023-08-03T11:08:00",
          "2023-08-03T11:12:00",
          "2023-08-03T11:13:00",
          "2023-08-03T11:14:00",
          "2023-08-03T11:29:00",
          "2023-08-03T11:31:00",
          "2023-08-03T11:32:00",
          "2023-08-03T11:37:00",
          "2023-08-03T12:00:00",
          "2023-08-03T12:03:00",
          "2023-08-03T12:43:00",
          "2023-08-03T12:44:00",
          "2023-08-03T13:06:00",
          "2023-08-03T13:07:00",
          "2023-08-03T13:08:00",
          "2023-08-03T13:16:00",
          "2023-08-03T13:17:00",
          "2023-08-03T13:19:00",
          "2023-08-03T14:21:00",
          "2023-08-03T14:26:00",
          "2023-08-03T14:27:00",
          "2023-08-03T14:31:00",
          "2023-08-03T14:32:00",
          "2023-08-03T14:34:00",
          "2023-08-03T14:35:00",
          "2023-08-03T14:39:00",
          "2023-08-03T14:40:00",
          "2023-08-03T14:43:00",
          "2023-08-03T14:59:00",
          "2023-08-03T15:07:00",
          "2023-08-03T15:14:00",
          "2023-08-03T15:15:00",
          "2023-08-04T09:19:00",
          "2023-08-04T09:20:00",
          "2023-08-04T09:21:00",
          "2023-08-04T09:23:00",
          "2023-08-04T09:55:00",
          "2023-08-04T09:58:00",
          "2023-08-04T09:59:00",
          "2023-08-04T10:01:00",
          "2023-08-04T10:10:00",
          "2023-08-04T10:16:00",
          "2023-08-04T10:20:00",
          "2023-08-04T10:26:00",
          "2023-08-04T10:28:00",
          "2023-08-04T10:31:00",
          "2023-08-04T10:41:00",
          "2023-08-04T10:44:00",
          "2023-08-04T10:45:00",
          "2023-08-04T10:49:00",
          "2023-08-04T11:01:00",
          "2023-08-04T11:09:00",
          "2023-08-04T11:11:00",
          "2023-08-04T11:14:00",
          "2023-08-04T11:16:00",
          "2023-08-04T11:18:00",
          "2023-08-04T11:19:00",
          "2023-08-04T11:21:00",
          "2023-08-04T11:22:00",
          "2023-08-04T11:29:00",
          "2023-08-04T11:47:00",
          "2023-08-04T11:51:00",
          "2023-08-04T11:54:00",
          "2023-08-04T11:55:00",
          "2023-08-04T12:16:00",
          "2023-08-04T12:19:00",
          "2023-08-04T12:20:00",
          "2023-08-04T12:25:00",
          "2023-08-04T12:50:00",
          "2023-08-04T12:52:00",
          "2023-08-04T12:53:00",
          "2023-08-04T12:57:00",
          "2023-08-04T13:21:00",
          "2023-08-04T13:22:00",
          "2023-08-04T14:20:00",
          "2023-08-04T14:21:00",
          "2023-08-04T14:22:00",
          "2023-08-04T14:22:00",
          "2023-08-04T14:23:00",
          "2023-08-04T14:24:00",
          "2023-08-04T14:25:00",
          "2023-08-04T14:26:00",
          "2023-08-07T09:16:00",
          "2023-08-07T09:17:00",
          "2023-08-07T09:18:00",
          "2023-08-07T09:18:00",
          "2023-08-07T09:46:00",
          "2023-08-07T09:46:00",
          "2023-08-07T10:07:00",
          "2023-08-07T10:11:00",
          "2023-08-07T10:12:00",
          "2023-08-07T10:13:00",
          "2023-08-07T10:32:00",
          "2023-08-07T10:34:00",
          "2023-08-07T10:37:00",
          "2023-08-07T10:39:00",
          "2023-08-07T11:13:00",
          "2023-08-07T11:14:00",
          "2023-08-07T11:22:00",
          "2023-08-07T11:23:00",
          "2023-08-07T11:41:00",
          "2023-08-07T11:42:00",
          "2023-08-07T11:43:00",
          "2023-08-07T11:50:00",
          "2023-08-07T11:51:00",
          "2023-08-07T11:53:00",
          "2023-08-07T12:03:00",
          "2023-08-07T12:05:00",
          "2023-08-07T12:25:00",
          "2023-08-07T12:29:00",
          "2023-08-07T12:55:00",
          "2023-08-07T12:57:00",
          "2023-08-07T13:19:00",
          "2023-08-07T13:23:00",
          "2023-08-07T13:41:00",
          "2023-08-07T13:45:00",
          "2023-08-07T14:22:00",
          "2023-08-07T14:24:00",
          "2023-08-07T14:26:00",
          "2023-08-07T14:26:00",
          "2023-08-07T14:27:00",
          "2023-08-07T14:32:00",
          "2023-08-07T14:51:00",
          "2023-08-07T14:54:00",
          "2023-08-07T15:01:00",
          "2023-08-07T15:03:00",
          "2023-08-07T15:09:00",
          "2023-08-07T15:15:00",
          "2023-08-08T09:16:00",
          "2023-08-08T09:21:00",
          "2023-08-08T09:22:00",
          "2023-08-08T09:23:00",
          "2023-08-08T09:46:00",
          "2023-08-08T09:51:00",
          "2023-08-08T09:57:00",
          "2023-08-08T09:58:00",
          "2023-08-08T09:59:00",
          "2023-08-08T10:07:00",
          "2023-08-08T10:11:00",
          "2023-08-08T10:12:00",
          "2023-08-08T10:13:00",
          "2023-08-08T10:16:00",
          "2023-08-08T10:22:00",
          "2023-08-08T10:24:00",
          "2023-08-08T10:36:00",
          "2023-08-08T10:43:00",
          "2023-08-08T10:44:00",
          "2023-08-08T10:46:00",
          "2023-08-08T11:40:00",
          "2023-08-08T11:48:00",
          "2023-08-08T11:49:00",
          "2023-08-08T11:53:00",
          "2023-08-08T11:54:00",
          "2023-08-08T11:57:00",
          "2023-08-08T12:09:00",
          "2023-08-08T12:10:00",
          "2023-08-08T12:15:00",
          "2023-08-08T12:19:00",
          "2023-08-08T12:38:00",
          "2023-08-08T12:40:00",
          "2023-08-08T13:20:00",
          "2023-08-08T13:23:00",
          "2023-08-08T13:29:00",
          "2023-08-08T13:30:00",
          "2023-08-08T13:52:00",
          "2023-08-08T13:54:00",
          "2023-08-08T13:55:00",
          "2023-08-08T13:58:00",
          "2023-08-08T14:00:00",
          "2023-08-08T14:03:00",
          "2023-08-08T14:04:00",
          "2023-08-08T14:07:00",
          "2023-08-08T14:08:00",
          "2023-08-08T14:09:00",
          "2023-08-09T09:17:00",
          "2023-08-09T09:18:00",
          "2023-08-09T10:05:00",
          "2023-08-09T10:06:00",
          "2023-08-09T10:07:00",
          "2023-08-09T10:09:00",
          "2023-08-09T10:31:00",
          "2023-08-09T10:32:00",
          "2023-08-09T10:36:00",
          "2023-08-09T10:47:00",
          "2023-08-09T11:58:00",
          "2023-08-09T12:01:00",
          "2023-08-09T12:03:00",
          "2023-08-09T12:06:00",
          "2023-08-09T12:09:00",
          "2023-08-09T12:11:00",
          "2023-08-09T12:35:00",
          "2023-08-09T12:48:00",
          "2023-08-09T12:55:00",
          "2023-08-09T12:57:00",
          "2023-08-09T13:19:00",
          "2023-08-09T13:30:00",
          "2023-08-09T13:56:00",
          "2023-08-09T13:57:00",
          "2023-08-09T13:58:00",
          "2023-08-09T14:18:00",
          "2023-08-09T14:28:00",
          "2023-08-09T14:30:00",
          "2023-08-09T14:39:00",
          "2023-08-09T14:41:00",
          "2023-08-09T14:42:00",
          "2023-08-09T14:49:00",
          "2023-08-09T14:53:00",
          "2023-08-09T15:00:00",
          "2023-08-09T15:01:00",
          "2023-08-09T15:02:00",
          "2023-08-09T15:06:00",
          "2023-08-09T15:09:00",
          "2023-08-09T15:13:00",
          "2023-08-09T15:15:00",
          "2023-08-10T09:34:00",
          "2023-08-10T09:40:00",
          "2023-08-10T10:01:00",
          "2023-08-10T10:01:00",
          "2023-08-10T10:02:00",
          "2023-08-10T10:03:00",
          "2023-08-10T10:04:00",
          "2023-08-10T10:04:00",
          "2023-08-10T10:05:00",
          "2023-08-10T10:11:00",
          "2023-08-10T10:14:00",
          "2023-08-10T10:17:00",
          "2023-08-10T10:45:00",
          "2023-08-10T10:46:00",
          "2023-08-10T10:47:00",
          "2023-08-10T10:53:00",
          "2023-08-10T10:54:00",
          "2023-08-10T10:55:00",
          "2023-08-10T10:56:00",
          "2023-08-10T10:59:00",
          "2023-08-10T11:07:00",
          "2023-08-10T11:08:00",
          "2023-08-10T11:19:00",
          "2023-08-10T11:20:00",
          "2023-08-10T11:21:00",
          "2023-08-10T11:22:00",
          "2023-08-10T11:31:00",
          "2023-08-10T11:43:00",
          "2023-08-10T11:44:00",
          "2023-08-10T11:49:00",
          "2023-08-10T11:51:00",
          "2023-08-10T12:00:00",
          "2023-08-10T12:49:00",
          "2023-08-10T12:50:00",
          "2023-08-10T12:51:00",
          "2023-08-10T12:53:00",
          "2023-08-10T12:54:00",
          "2023-08-10T12:57:00",
          "2023-08-10T13:16:00",
          "2023-08-10T13:18:00",
          "2023-08-10T13:19:00",
          "2023-08-10T13:20:00",
          "2023-08-10T14:08:00",
          "2023-08-10T14:09:00",
          "2023-08-10T14:10:00",
          "2023-08-10T14:14:00",
          "2023-08-10T14:16:00",
          "2023-08-10T14:18:00",
          "2023-08-10T14:38:00",
          "2023-08-10T14:39:00",
          "2023-08-10T14:40:00",
          "2023-08-10T14:41:00",
          "2023-08-10T14:56:00",
          "2023-08-10T15:00:00",
          "2023-08-10T15:02:00",
          "2023-08-10T15:08:00",
          "2023-08-10T15:09:00",
          "2023-08-10T15:12:00",
          "2023-08-10T15:13:00",
          "2023-08-10T15:14:00",
          "2023-08-11T09:16:00",
          "2023-08-11T09:17:00",
          "2023-08-11T09:44:00",
          "2023-08-11T09:44:00",
          "2023-08-11T09:45:00",
          "2023-08-11T09:50:00",
          "2023-08-11T09:53:00",
          "2023-08-11T09:55:00",
          "2023-08-11T09:56:00",
          "2023-08-11T10:03:00",
          "2023-08-11T11:23:00",
          "2023-08-11T11:28:00",
          "2023-08-11T11:29:00",
          "2023-08-11T11:41:00",
          "2023-08-11T11:42:00",
          "2023-08-11T11:47:00",
          "2023-08-11T11:48:00",
          "2023-08-11T11:53:00",
          "2023-08-11T12:01:00",
          "2023-08-11T12:02:00",
          "2023-08-11T12:47:00",
          "2023-08-11T12:49:00",
          "2023-08-11T13:03:00",
          "2023-08-11T13:07:00",
          "2023-08-11T13:08:00",
          "2023-08-11T13:12:00"
         ],
         "mode": "lines",
         "name": "Cumulative Equity",
         "x": [
          0,
          1,
          2,
          3,
          4,
          5,
          6,
          7,
          8,
          9,
          10,
          11,
          12,
          13,
          14,
          15,
          16,
          17,
          18,
          19,
          20,
          21,
          22,
          23,
          24,
          25,
          26,
          27,
          28,
          29,
          30,
          31,
          32,
          33,
          34,
          35,
          36,
          37,
          38,
          39,
          40,
          41,
          42,
          43,
          44,
          45,
          46,
          47,
          48,
          49,
          50,
          51,
          52,
          53,
          54,
          55,
          56,
          57,
          58,
          59,
          60,
          61,
          62,
          63,
          64,
          65,
          66,
          67,
          68,
          69,
          70,
          71,
          72,
          73,
          74,
          75,
          76,
          77,
          78,
          79,
          80,
          81,
          82,
          83,
          84,
          85,
          86,
          87,
          88,
          89,
          90,
          91,
          92,
          93,
          94,
          95,
          96,
          97,
          98,
          99,
          100,
          101,
          102,
          103,
          104,
          105,
          106,
          107,
          108,
          109,
          110,
          111,
          112,
          113,
          114,
          115,
          116,
          117,
          118,
          119,
          120,
          121,
          122,
          123,
          124,
          125,
          126,
          127,
          128,
          129,
          130,
          131,
          132,
          133,
          134,
          135,
          136,
          137,
          138,
          139,
          140,
          141,
          142,
          143,
          144,
          145,
          146,
          147,
          148,
          149,
          150,
          151,
          152,
          153,
          154,
          155,
          156,
          157,
          158,
          159,
          160,
          161,
          162,
          163,
          164,
          165,
          166,
          167,
          168,
          169,
          170,
          171,
          172,
          173,
          174,
          175,
          176,
          177,
          178,
          179,
          180,
          181,
          182,
          183,
          184,
          185,
          186,
          187,
          188,
          189,
          190,
          191,
          192,
          193,
          194,
          195,
          196,
          197,
          198,
          199,
          200,
          201,
          202,
          203,
          204,
          205,
          206,
          207,
          208,
          209,
          210,
          211,
          212,
          213,
          214,
          215,
          216,
          217,
          218,
          219,
          220,
          221,
          222,
          223,
          224,
          225,
          226,
          227,
          228,
          229,
          230,
          231,
          232,
          233,
          234,
          235,
          236,
          237,
          238,
          239,
          240,
          241,
          242,
          243,
          244,
          245,
          246,
          247,
          248,
          249,
          250,
          251,
          252,
          253,
          254,
          255,
          256,
          257,
          258,
          259,
          260,
          261,
          262,
          263,
          264,
          265,
          266,
          267,
          268,
          269,
          270,
          271,
          272,
          273,
          274,
          275,
          276,
          277,
          278,
          279,
          280,
          281,
          282,
          283,
          284,
          285,
          286,
          287,
          288,
          289,
          290,
          291,
          292,
          293,
          294,
          295,
          296,
          297,
          298,
          299,
          300,
          301,
          302,
          303,
          304,
          305,
          306,
          307,
          308,
          309,
          310,
          311,
          312,
          313,
          314,
          315,
          316,
          317,
          318,
          319,
          320,
          321,
          322,
          323,
          324,
          325,
          326,
          327,
          328,
          329,
          330,
          331,
          332,
          333,
          334,
          335,
          336,
          337,
          338,
          339,
          340,
          341,
          342,
          343,
          344,
          345,
          346,
          347,
          348,
          349,
          350,
          351,
          352,
          353,
          354,
          355,
          356,
          357,
          358,
          359,
          360,
          361,
          362,
          363,
          364,
          365,
          366,
          367,
          368,
          369,
          370,
          371,
          372,
          373,
          374,
          375,
          376,
          377,
          378,
          379,
          380,
          381,
          382,
          383,
          384,
          385,
          386,
          387,
          388,
          389,
          390,
          391,
          392,
          393,
          394,
          395,
          396,
          397,
          398,
          399,
          400,
          401,
          402,
          403,
          404,
          405,
          406,
          407,
          408,
          409,
          410,
          411,
          412,
          413,
          414,
          415,
          416,
          417,
          418,
          419,
          420,
          421,
          422,
          423,
          424,
          425,
          426,
          427,
          428,
          429,
          430,
          431,
          432,
          433,
          434,
          435,
          436,
          437,
          438,
          439,
          440,
          441,
          442,
          443,
          444,
          445,
          446,
          447,
          448,
          449,
          450,
          451,
          452,
          453,
          454,
          455,
          456,
          457,
          458,
          459,
          460,
          461,
          462,
          463,
          464,
          465,
          466,
          467,
          468,
          469,
          470,
          471,
          472,
          473,
          474,
          475,
          476,
          477,
          478,
          479,
          480,
          481,
          482,
          483,
          484,
          485,
          486,
          487,
          488,
          489,
          490,
          491,
          492,
          493,
          494,
          495,
          496,
          497,
          498,
          499,
          500,
          501,
          502,
          503,
          504,
          505,
          506,
          507,
          508,
          509,
          510,
          511
         ],
         "y": [
          1.0E8,
          9.999999875E7,
          9.999999875E7,
          9.99999988E7,
          9.99999988E7,
          9.999999755E7,
          9.999999755E7,
          9.99999981E7,
          9.99999981E7,
          9.999999844999999E7,
          9.999999844999999E7,
          9.999999864999999E7,
          9.999999864999999E7,
          9.999999874999999E7,
          9.999999874999999E7,
          9.999999884999998E7,
          9.999999884999998E7,
          9.999999889999998E7,
          9.999999889999998E7,
          9.999999869999997E7,
          9.999999869999997E7,
          9.999999919999997E7,
          9.999999919999997E7,
          9.999999964999998E7,
          9.999999964999998E7,
          1.0000000009999998E8,
          1.0000000009999998E8,
          9.999999999999999E7,
          9.999999999999999E7,
          1.0000000019999999E8,
          1.0000000019999999E8,
          1.0000000039999999E8,
          1.0000000039999999E8,
          1.000000008E8,
          1.000000008E8,
          1.00000001E8,
          1.00000001E8,
          1.0000000125E8,
          1.0000000125E8,
          1.000000008E8,
          1.000000008E8,
          1.0000000105E8,
          1.0000000105E8,
          1.0000000125E8,
          1.0000000125E8,
          1.0E8,
          1.0E8,
          9.999999995E7,
          9.999999995E7,
          1.000000004E8,
          1.000000004E8,
          1.0000000135000001E8,
          1.0000000135000001E8,
          1.0000000125000001E8,
          1.0000000125000001E8,
          1.0000000125000001E8,
          1.0000000125000001E8,
          1.0000000110000001E8,
          1.0000000110000001E8,
          1.0000000115E8,
          1.0000000115E8,
          1.0000000175E8,
          1.0000000175E8,
          1.000000019E8,
          1.000000019E8,
          1.0000000235000001E8,
          1.0000000235000001E8,
          1.0000000255000001E8,
          1.0000000255000001E8,
          1.0000000130000001E8,
          1.0000000130000001E8,
          1.0000000170000002E8,
          1.0000000170000002E8,
          1.0000000215000002E8,
          1.0000000215000002E8,
          1.0000000260000002E8,
          1.0000000260000002E8,
          1.0000000235000002E8,
          1.0000000235000002E8,
          1.0000000260000002E8,
          1.0000000260000002E8,
          1.0000000290000002E8,
          1.0000000290000002E8,
          1.0000000295000002E8,
          1.0000000295000002E8,
          1.0000000255000001E8,
          1.0000000255000001E8,
          1.0000000315E8,
          1.0000000315E8,
          1.0000000315E8,
          1.0000000315E8,
          1.0000000285000001E8,
          1.0000000285000001E8,
          1.000000032E8,
          1.000000032E8,
          1.000000037E8,
          1.000000037E8,
          1.000000039E8,
          1.000000039E8,
          1.0000000455000001E8,
          1.0000000455000001E8,
          1.0000000500000001E8,
          1.0000000500000001E8,
          1.0000000555000001E8,
          1.0000000555000001E8,
          1.0000000535000001E8,
          1.0000000535000001E8,
          1.0000000545E8,
          1.0000000545E8,
          1.0000000560000001E8,
          1.0000000560000001E8,
          1.0000000545E8,
          1.0000000545E8,
          1.000000057E8,
          1.000000057E8,
          1.0000000545E8,
          1.0000000545E8,
          1.000000052E8,
          1.000000052E8,
          1.0000000495E8,
          1.0000000495E8,
          1.000000052E8,
          1.000000052E8,
          1.000000055E8,
          1.000000055E8,
          1.0000000535E8,
          1.0000000535E8,
          1.0000000525E8,
          1.0000000525E8,
          1.0000000525E8,
          1.0000000525E8,
          1.000000051E8,
          1.000000051E8,
          1.0000000505E8,
          1.0000000505E8,
          1.0000000535E8,
          1.0000000535E8,
          1.0000000514999999E8,
          1.0000000514999999E8,
          1.000000051E8,
          1.000000051E8,
          1.0000000385E8,
          1.0000000385E8,
          1.000000046E8,
          1.000000046E8,
          1.00000005E8,
          1.00000005E8,
          1.0000000535E8,
          1.0000000535E8,
          1.0000000414999999E8,
          1.0000000414999999E8,
          1.0000000439999999E8,
          1.0000000439999999E8,
          1.0000000449999999E8,
          1.0000000449999999E8,
          1.0000000479999998E8,
          1.0000000479999998E8,
          1.0000000484999998E8,
          1.0000000484999998E8,
          1.0000000434999998E8,
          1.0000000434999998E8,
          1.0000000494999997E8,
          1.0000000494999997E8,
          1.0000000509999998E8,
          1.0000000509999998E8,
          1.0000000509999998E8,
          1.0000000509999998E8,
          1.0000000554999998E8,
          1.0000000554999998E8,
          1.0000000579999998E8,
          1.0000000579999998E8,
          1.0000000594999999E8,
          1.0000000594999999E8,
          1.0000000474999999E8,
          1.0000000474999999E8,
          1.0000000539999999E8,
          1.0000000539999999E8,
          1.0000000535E8,
          1.0000000535E8,
          1.0000000644999999E8,
          1.0000000644999999E8,
          1.0000000699999999E8,
          1.0000000699999999E8,
          1.0000000709999998E8,
          1.0000000709999998E8,
          1.0000000774999999E8,
          1.0000000774999999E8,
          1.0000000654999998E8,
          1.0000000654999998E8,
          1.0000000714999998E8,
          1.0000000714999998E8,
          1.0000000714999998E8,
          1.0000000714999998E8,
          1.0000000724999997E8,
          1.0000000724999997E8,
          1.0000000604999997E8,
          1.0000000604999997E8,
          1.0000000604999997E8,
          1.0000000604999997E8,
          1.0000000684999996E8,
          1.0000000684999996E8,
          1.0000000689999996E8,
          1.0000000689999996E8,
          1.0000000809999996E8,
          1.0000000809999996E8,
          1.0000000929999997E8,
          1.0000000929999997E8,
          1.0000000959999996E8,
          1.0000000959999996E8,
          1.0000001044999996E8,
          1.0000001044999996E8,
          1.0000000999999996E8,
          1.0000000999999996E8,
          1.0000000989999996E8,
          1.0000000989999996E8,
          1.0000001014999996E8,
          1.0000001014999996E8,
          1.0000000894999996E8,
          1.0000000894999996E8,
          1.0000000979999995E8,
          1.0000000979999995E8,
          1.0000001039999995E8,
          1.0000001039999995E8,
          1.0000001049999994E8,
          1.0000001049999994E8,
          1.0000000929999994E8,
          1.0000000929999994E8,
          1.0000000809999993E8,
          1.0000000809999993E8,
          1.0000000854999994E8,
          1.0000000854999994E8,
          1.0000000834999993E8,
          1.0000000834999993E8,
          1.0000000714999993E8,
          1.0000000714999993E8,
          1.0000000799999993E8,
          1.0000000799999993E8,
          1.0000000679999992E8,
          1.0000000679999992E8,
          1.0000000784999992E8,
          1.0000000784999992E8,
          1.0000000754999992E8,
          1.0000000754999992E8,
          1.0000000634999992E8,
          1.0000000634999992E8,
          1.0000000514999992E8,
          1.0000000514999992E8,
          1.0000000634999992E8,
          1.0000000634999992E8,
          1.0000000689999992E8,
          1.0000000689999992E8,
          1.0000000714999992E8,
          1.0000000714999992E8,
          1.0000000694999991E8,
          1.0000000694999991E8,
          1.0000000654999991E8,
          1.0000000654999991E8,
          1.000000068499999E8,
          1.000000068499999E8,
          1.000000056499999E8,
          1.000000056499999E8,
          1.000000065999999E8,
          1.000000065999999E8,
          1.000000059499999E8,
          1.000000059499999E8,
          1.000000060499999E8,
          1.000000060499999E8,
          1.000000064999999E8,
          1.000000064999999E8,
          1.000000052999999E8,
          1.000000052999999E8,
          1.000000055499999E8,
          1.000000055499999E8,
          1.000000059499999E8,
          1.000000059499999E8,
          1.000000065499999E8,
          1.000000065499999E8,
          1.000000070499999E8,
          1.000000070499999E8,
          1.0000000689999989E8,
          1.0000000689999989E8,
          1.0000000719999988E8,
          1.0000000719999988E8,
          1.0000000754999988E8,
          1.0000000754999988E8,
          1.0000000809999987E8,
          1.0000000809999987E8,
          1.0000000694999987E8,
          1.0000000694999987E8,
          1.0000000579999986E8,
          1.0000000579999986E8,
          1.0000000694999987E8,
          1.0000000694999987E8,
          1.0000000764999987E8,
          1.0000000764999987E8,
          1.0000000649999987E8,
          1.0000000649999987E8,
          1.0000000764999987E8,
          1.0000000764999987E8,
          1.0000000879999988E8,
          1.0000000879999988E8,
          1.0000000889999987E8,
          1.0000000889999987E8,
          1.0000000914999987E8,
          1.0000000914999987E8,
          1.0000000964999987E8,
          1.0000000964999987E8,
          1.0000000999999987E8,
          1.0000000999999987E8,
          1.0000001044999987E8,
          1.0000001044999987E8,
          1.0000001074999987E8,
          1.0000001074999987E8,
          1.0000000959999986E8,
          1.0000000959999986E8,
          1.0000001019999985E8,
          1.0000001019999985E8,
          1.0000001024999985E8,
          1.0000001024999985E8,
          1.0000001029999985E8,
          1.0000001029999985E8,
          1.0000001059999985E8,
          1.0000001059999985E8,
          1.0000001104999985E8,
          1.0000001104999985E8,
          1.0000001179999985E8,
          1.0000001179999985E8,
          1.0000001184999985E8,
          1.0000001184999985E8,
          1.0000001184999985E8,
          1.0000001184999985E8,
          1.0000001069999984E8,
          1.0000001069999984E8,
          1.0000001139999984E8,
          1.0000001139999984E8,
          1.0000001139999984E8,
          1.0000001139999984E8,
          1.0000001129999985E8,
          1.0000001129999985E8,
          1.0000001099999985E8,
          1.0000001099999985E8,
          1.0000001169999985E8,
          1.0000001169999985E8,
          1.0000001194999985E8,
          1.0000001194999985E8,
          1.0000001219999985E8,
          1.0000001219999985E8,
          1.0000001104999985E8,
          1.0000001104999985E8,
          1.0000001109999985E8,
          1.0000001109999985E8,
          1.0000001084999985E8,
          1.0000001084999985E8,
          1.0000001174999985E8,
          1.0000001174999985E8,
          1.0000001204999985E8,
          1.0000001204999985E8,
          1.0000001209999985E8,
          1.0000001209999985E8,
          1.0000001259999985E8,
          1.0000001259999985E8,
          1.0000001269999984E8,
          1.0000001269999984E8,
          1.0000001154999983E8,
          1.0000001154999983E8,
          1.0000001189999983E8,
          1.0000001189999983E8,
          1.0000001189999983E8,
          1.0000001189999983E8,
          1.0000001209999983E8,
          1.0000001209999983E8,
          1.0000001259999983E8,
          1.0000001259999983E8,
          1.0000001284999983E8,
          1.0000001284999983E8,
          1.0000001319999982E8,
          1.0000001319999982E8,
          1.0000001204999982E8,
          1.0000001204999982E8,
          1.0000001219999982E8,
          1.0000001219999982E8,
          1.0000001104999982E8,
          1.0000001104999982E8,
          1.0000001169999982E8,
          1.0000001169999982E8,
          1.0000001229999982E8,
          1.0000001229999982E8,
          1.0000001244999982E8,
          1.0000001244999982E8,
          1.0000001259999983E8,
          1.0000001259999983E8,
          1.0000001279999983E8,
          1.0000001279999983E8,
          1.0000001304999983E8,
          1.0000001304999983E8,
          1.0000001274999984E8,
          1.0000001274999984E8,
          1.0000001269999984E8,
          1.0000001269999984E8,
          1.0000001289999984E8,
          1.0000001289999984E8,
          1.0000001294999984E8,
          1.0000001294999984E8,
          1.0000001264999984E8,
          1.0000001264999984E8,
          1.0000001299999984E8,
          1.0000001299999984E8,
          1.0000001234999983E8,
          1.0000001234999983E8,
          1.0000001239999983E8,
          1.0000001239999983E8,
          1.0000001179999983E8,
          1.0000001179999983E8,
          1.0000001194999984E8,
          1.0000001194999984E8,
          1.0000001079999983E8,
          1.0000001079999983E8,
          1.0000001129999983E8,
          1.0000001129999983E8,
          1.0000001124999984E8,
          1.0000001124999984E8,
          1.0000001129999983E8,
          1.0000001129999983E8,
          1.0000001149999984E8,
          1.0000001149999984E8,
          1.0000001179999983E8,
          1.0000001179999983E8,
          1.0000001214999983E8,
          1.0000001214999983E8,
          1.0000001099999982E8,
          1.0000001099999982E8,
          1.0000000984999982E8,
          1.0000000984999982E8,
          1.0000001099999982E8,
          1.0000001099999982E8,
          1.0000001104999982E8,
          1.0000001104999982E8,
          1.0000001104999982E8,
          1.0000001104999982E8,
          1.0000001074999982E8,
          1.0000001074999982E8,
          1.0000000959999982E8,
          1.0000000959999982E8,
          1.0000001074999982E8,
          1.0000001074999982E8,
          1.0000001134999982E8,
          1.0000001134999982E8,
          1.0000001174999982E8,
          1.0000001174999982E8,
          1.0000001194999982E8,
          1.0000001194999982E8,
          1.0000001219999982E8,
          1.0000001219999982E8,
          1.0000001104999982E8,
          1.0000001104999982E8,
          1.0000001164999981E8,
          1.0000001164999981E8,
          1.0000001139999981E8,
          1.0000001139999981E8,
          1.0000001184999982E8,
          1.0000001184999982E8,
          1.0000001069999981E8,
          1.0000001069999981E8,
          1.000000114999998E8,
          1.000000114999998E8,
          1.000000117999998E8,
          1.000000117999998E8,
          1.000000120999998E8,
          1.000000120999998E8,
          1.000000109499998E8,
          1.000000109499998E8,
          1.000000118499998E8,
          1.000000118499998E8,
          1.000000122999998E8,
          1.000000122999998E8,
          1.000000127999998E8,
          1.000000127999998E8,
          1.000000130499998E8,
          1.000000130499998E8,
          1.000000128499998E8,
          1.000000128499998E8,
          1.000000116999998E8,
          1.000000116999998E8,
          1.000000121499998E8,
          1.000000121499998E8,
          1.000000125499998E8,
          1.000000125499998E8,
          1.000000130499998E8,
          1.000000130499998E8,
          1.000000118999998E8,
          1.000000118999998E8,
          1.000000124499998E8,
          1.000000124499998E8,
          1.0000001129999979E8,
          1.0000001129999979E8,
          1.0000001199999979E8,
          1.0000001199999979E8,
          1.0000001084999979E8,
          1.0000001084999979E8,
          1.0000001024999979E8,
          1.0000001024999979E8,
          1.0000000909999979E8,
          1.0000000909999979E8,
          1.0000000974999979E8,
          1.0000000974999979E8,
          1.000000101999998E8,
          1.000000101999998E8,
          1.0000001074999979E8,
          1.0000001074999979E8,
          1.0000000959999979E8,
          1.0000000959999979E8,
          1.0000001024999979E8
         ],
         "type": "scatter"
        }
       ],
       "layout": {
        "template": {
         "data": {
          "histogram2dcontour": [
           {
            "type": "histogram2dcontour",
            "colorbar": {
             "outlinewidth": 0,
             "ticks": ""
            },
            "colorscale": [
             [
              0.0,
              "#0d0887"
             ],
             [
              0.1111111111111111,
              "#46039f"
             ],
             [
              0.2222222222222222,
              "#7201a8"
             ],
             [
              0.3333333333333333,
              "#9c179e"
             ],
             [
              0.4444444444444444,
              "#bd3786"
             ],
             [
              0.5555555555555556,
              "#d8576b"
             ],
             [
              0.6666666666666666,
              "#ed7953"
             ],
             [
              0.7777777777777778,
              "#fb9f3a"
             ],
             [
              0.8888888888888888,
              "#fdca26"
             ],
             [
              1.0,
              "#f0f921"
             ]
            ]
           }
          ],
          "choropleth": [
           {
            "type": "choropleth",
            "colorbar": {
             "outlinewidth": 0,
             "ticks": ""
            }
           }
          ],
          "histogram2d": [
           {
            "type": "histogram2d",
            "colorbar": {
             "outlinewidth": 0,
             "ticks": ""
            },
            "colorscale": [
             [
              0.0,
              "#0d0887"
             ],
             [
              0.1111111111111111,
              "#46039f"
             ],
             [
              0.2222222222222222,
              "#7201a8"
             ],
             [
              0.3333333333333333,
              "#9c179e"
             ],
             [
              0.4444444444444444,
              "#bd3786"
             ],
             [
              0.5555555555555556,
              "#d8576b"
             ],
             [
              0.6666666666666666,
              "#ed7953"
             ],
             [
              0.7777777777777778,
              "#fb9f3a"
             ],
             [
              0.8888888888888888,
              "#fdca26"
             ],
             [
              1.0,
              "#f0f921"
             ]
            ]
           }
          ],
          "heatmap": [
           {
            "type": "heatmap",
            "colorbar": {
             "outlinewidth": 0,
             "ticks": ""
            },
            "colorscale": [
             [
              0.0,
              "#0d0887"
             ],
             [
              0.1111111111111111,
              "#46039f"
             ],
             [
              0.2222222222222222,
              "#7201a8"
             ],
             [
              0.3333333333333333,
              "#9c179e"
             ],
             [
              0.4444444444444444,
              "#bd3786"
             ],
             [
              0.5555555555555556,
              "#d8576b"
             ],
             [
              0.6666666666666666,
              "#ed7953"
             ],
             [
              0.7777777777777778,
              "#fb9f3a"
             ],
             [
              0.8888888888888888,
              "#fdca26"
             ],
             [
              1.0,
              "#f0f921"
             ]
            ]
           }
          ],
          "heatmapgl": [
           {
            "type": "heatmapgl",
            "colorbar": {
             "outlinewidth": 0,
             "ticks": ""
            },
            "colorscale": [
             [
              0.0,
              "#0d0887"
             ],
             [
              0.1111111111111111,
              "#46039f"
             ],
             [
              0.2222222222222222,
              "#7201a8"
             ],
             [
              0.3333333333333333,
              "#9c179e"
             ],
             [
              0.4444444444444444,
              "#bd3786"
             ],
             [
              0.5555555555555556,
              "#d8576b"
             ],
             [
              0.6666666666666666,
              "#ed7953"
             ],
             [
              0.7777777777777778,
              "#fb9f3a"
             ],
             [
              0.8888888888888888,
              "#fdca26"
             ],
             [
              1.0,
              "#f0f921"
             ]
            ]
           }
          ],
          "contourcarpet": [
           {
            "type": "contourcarpet",
            "colorbar": {
             "outlinewidth": 0,
             "ticks": ""
            }
           }
          ],
          "contour": [
           {
            "type": "contour",
            "colorbar": {
             "outlinewidth": 0,
             "ticks": ""
            },
            "colorscale": [
             [
              0.0,
              "#0d0887"
             ],
             [
              0.1111111111111111,
              "#46039f"
             ],
             [
              0.2222222222222222,
              "#7201a8"
             ],
             [
              0.3333333333333333,
              "#9c179e"
             ],
             [
              0.4444444444444444,
              "#bd3786"
             ],
             [
              0.5555555555555556,
              "#d8576b"
             ],
             [
              0.6666666666666666,
              "#ed7953"
             ],
             [
              0.7777777777777778,
              "#fb9f3a"
             ],
             [
              0.8888888888888888,
              "#fdca26"
             ],
             [
              1.0,
              "#f0f921"
             ]
            ]
           }
          ],
          "surface": [
           {
            "type": "surface",
            "colorbar": {
             "outlinewidth": 0,
             "ticks": ""
            },
            "colorscale": [
             [
              0.0,
              "#0d0887"
             ],
             [
              0.1111111111111111,
              "#46039f"
             ],
             [
              0.2222222222222222,
              "#7201a8"
             ],
             [
              0.3333333333333333,
              "#9c179e"
             ],
             [
              0.4444444444444444,
              "#bd3786"
             ],
             [
              0.5555555555555556,
              "#d8576b"
             ],
             [
              0.6666666666666666,
              "#ed7953"
             ],
             [
              0.7777777777777778,
              "#fb9f3a"
             ],
             [
              0.8888888888888888,
              "#fdca26"
             ],
             [
              1.0,
              "#f0f921"
             ]
            ]
           }
          ],
          "mesh3d": [
           {
            "type": "mesh3d",
            "colorbar": {
             "outlinewidth": 0,
             "ticks": ""
            }
           }
          ],
          "scatter": [
           {
            "fillpattern": {
             "fillmode": "overlay",
             "size": 10,
             "solidity": 0.2
            },
            "type": "scatter"
           }
          ],
          "parcoords": [
           {
            "type": "parcoords",
            "line": {
             "colorbar": {
              "outlinewidth": 0,
              "ticks": ""
             }
            }
           }
          ],
          "scatterpolargl": [
           {
            "type": "scatterpolargl",
            "marker": {
             "colorbar": {
              "outlinewidth": 0,
              "ticks": ""
             }
            }
           }
          ],
          "bar": [
           {
            "error_x": {
             "color": "#2a3f5f"
            },
            "error_y": {
             "color": "#2a3f5f"
            },
            "marker": {
             "line": {
              "color": "#E5ECF6",
              "width": 0.5
             },
             "pattern": {
              "fillmode": "overlay",
              "size": 10,
              "solidity": 0.2
             }
            },
            "type": "bar"
           }
          ],
          "scattergeo": [
           {
            "type": "scattergeo",
            "marker": {
             "colorbar": {
              "outlinewidth": 0,
              "ticks": ""
             }
            }
           }
          ],
          "scatterpolar": [
           {
            "type": "scatterpolar",
            "marker": {
             "colorbar": {
              "outlinewidth": 0,
              "ticks": ""
             }
            }
           }
          ],
          "histogram": [
           {
            "marker": {
             "pattern": {
              "fillmode": "overlay",
              "size": 10,
              "solidity": 0.2
             }
            },
            "type": "histogram"
           }
          ],
          "scattergl": [
           {
            "type": "scattergl",
            "marker": {
             "colorbar": {
              "outlinewidth": 0,
              "ticks": ""
             }
            }
           }
          ],
          "scatter3d": [
           {
            "type": "scatter3d",
            "line": {
             "colorbar": {
              "outlinewidth": 0,
              "ticks": ""
             }
            },
            "marker": {
             "colorbar": {
              "outlinewidth": 0,
              "ticks": ""
             }
            }
           }
          ],
          "scattermapbox": [
           {
            "type": "scattermapbox",
            "marker": {
             "colorbar": {
              "outlinewidth": 0,
              "ticks": ""
             }
            }
           }
          ],
          "scatterternary": [
           {
            "type": "scatterternary",
            "marker": {
             "colorbar": {
              "outlinewidth": 0,
              "ticks": ""
             }
            }
           }
          ],
          "scattercarpet": [
           {
            "type": "scattercarpet",
            "marker": {
             "colorbar": {
              "outlinewidth": 0,
              "ticks": ""
             }
            }
           }
          ],
          "carpet": [
           {
            "aaxis": {
             "endlinecolor": "#2a3f5f",
             "gridcolor": "white",
             "linecolor": "white",
             "minorgridcolor": "white",
             "startlinecolor": "#2a3f5f"
            },
            "baxis": {
             "endlinecolor": "#2a3f5f",
             "gridcolor": "white",
             "linecolor": "white",
             "minorgridcolor": "white",
             "startlinecolor": "#2a3f5f"
            },
            "type": "carpet"
           }
          ],
          "table": [
           {
            "cells": {
             "fill": {
              "color": "#EBF0F8"
             },
             "line": {
              "color": "white"
             }
            },
            "header": {
             "fill": {
              "color": "#C8D4E3"
             },
             "line": {
              "color": "white"
             }
            },
            "type": "table"
           }
          ],
          "barpolar": [
           {
            "marker": {
             "line": {
              "color": "#E5ECF6",
              "width": 0.5
             },
             "pattern": {
              "fillmode": "overlay",
              "size": 10,
              "solidity": 0.2
             }
            },
            "type": "barpolar"
           }
          ],
          "pie": [
           {
            "automargin": true,
            "type": "pie"
           }
          ]
         },
         "layout": {
          "autotypenumbers": "strict",
          "colorway": [
           "#636efa",
           "#EF553B",
           "#00cc96",
           "#ab63fa",
           "#FFA15A",
           "#19d3f3",
           "#FF6692",
           "#B6E880",
           "#FF97FF",
           "#FECB52"
          ],
          "font": {
           "color": "#2a3f5f"
          },
          "hovermode": "closest",
          "hoverlabel": {
           "align": "left"
          },
          "paper_bgcolor": "white",
          "plot_bgcolor": "#E5ECF6",
          "polar": {
           "bgcolor": "#E5ECF6",
           "angularaxis": {
            "gridcolor": "white",
            "linecolor": "white",
            "ticks": ""
           },
           "radialaxis": {
            "gridcolor": "white",
            "linecolor": "white",
            "ticks": ""
           }
          },
          "ternary": {
           "bgcolor": "#E5ECF6",
           "aaxis": {
            "gridcolor": "white",
            "linecolor": "white",
            "ticks": ""
           },
           "baxis": {
            "gridcolor": "white",
            "linecolor": "white",
            "ticks": ""
           },
           "caxis": {
            "gridcolor": "white",
            "linecolor": "white",
            "ticks": ""
           }
          },
          "coloraxis": {
           "colorbar": {
            "outlinewidth": 0,
            "ticks": ""
           }
          },
          "colorscale": {
           "sequential": [
            [
             0.0,
             "#0d0887"
            ],
            [
             0.1111111111111111,
             "#46039f"
            ],
            [
             0.2222222222222222,
             "#7201a8"
            ],
            [
             0.3333333333333333,
             "#9c179e"
            ],
            [
             0.4444444444444444,
             "#bd3786"
            ],
            [
             0.5555555555555556,
             "#d8576b"
            ],
            [
             0.6666666666666666,
             "#ed7953"
            ],
            [
             0.7777777777777778,
             "#fb9f3a"
            ],
            [
             0.8888888888888888,
             "#fdca26"
            ],
            [
             1.0,
             "#f0f921"
            ]
           ],
           "sequentialminus": [
            [
             0.0,
             "#0d0887"
            ],
            [
             0.1111111111111111,
             "#46039f"
            ],
            [
             0.2222222222222222,
             "#7201a8"
            ],
            [
             0.3333333333333333,
             "#9c179e"
            ],
            [
             0.4444444444444444,
             "#bd3786"
            ],
            [
             0.5555555555555556,
             "#d8576b"
            ],
            [
             0.6666666666666666,
             "#ed7953"
            ],
            [
             0.7777777777777778,
             "#fb9f3a"
            ],
            [
             0.8888888888888888,
             "#fdca26"
            ],
            [
             1.0,
             "#f0f921"
            ]
           ],
           "diverging": [
            [
             0,
             "#8e0152"
            ],
            [
             0.1,
             "#c51b7d"
            ],
            [
             0.2,
             "#de77ae"
            ],
            [
             0.3,
             "#f1b6da"
            ],
            [
             0.4,
             "#fde0ef"
            ],
            [
             0.5,
             "#f7f7f7"
            ],
            [
             0.6,
             "#e6f5d0"
            ],
            [
             0.7,
             "#b8e186"
            ],
            [
             0.8,
             "#7fbc41"
            ],
            [
             0.9,
             "#4d9221"
            ],
            [
             1,
             "#276419"
            ]
           ]
          },
          "xaxis": {
           "gridcolor": "white",
           "linecolor": "white",
           "ticks": "",
           "title": {
            "standoff": 15
           },
           "zerolinecolor": "white",
           "automargin": true,
           "zerolinewidth": 2
          },
          "yaxis": {
           "gridcolor": "white",
           "linecolor": "white",
           "ticks": "",
           "title": {
            "standoff": 15
           },
           "zerolinecolor": "white",
           "automargin": true,
           "zerolinewidth": 2
          },
          "scene": {
           "xaxis": {
            "backgroundcolor": "#E5ECF6",
            "gridcolor": "white",
            "linecolor": "white",
            "showbackground": true,
            "ticks": "",
            "zerolinecolor": "white",
            "gridwidth": 2
           },
           "yaxis": {
            "backgroundcolor": "#E5ECF6",
            "gridcolor": "white",
            "linecolor": "white",
            "showbackground": true,
            "ticks": "",
            "zerolinecolor": "white",
            "gridwidth": 2
           },
           "zaxis": {
            "backgroundcolor": "#E5ECF6",
            "gridcolor": "white",
            "linecolor": "white",
            "showbackground": true,
            "ticks": "",
            "zerolinecolor": "white",
            "gridwidth": 2
           }
          },
          "shapedefaults": {
           "line": {
            "color": "#2a3f5f"
           }
          },
          "annotationdefaults": {
           "arrowcolor": "#2a3f5f",
           "arrowhead": 0,
           "arrowwidth": 1
          },
          "geo": {
           "bgcolor": "white",
           "landcolor": "#E5ECF6",
           "subunitcolor": "white",
           "showland": true,
           "showlakes": true,
           "lakecolor": "white"
          },
          "title": {
           "x": 0.05
          },
          "mapbox": {
           "style": "light"
          }
         }
        },
        "title": {
         "text": "Equity Curve"
        },
        "xaxis": {
         "title": {
          "text": "No. of Trade"
         }
        },
        "yaxis": {
         "title": {
          "text": "Cumulative P&L"
         }
        }
       },
       "config": {
        "plotlyServerURL": "https://plot.ly"
       }
      },
      "text/html": "<div>                            <div id=\"c1c6b918-ebc2-407e-a8f3-57c4af762d30\" class=\"plotly-graph-div\" style=\"height:525px; width:100%;\"></div>            <script type=\"text/javascript\">                require([\"plotly\"], function(Plotly) {                    window.PLOTLYENV=window.PLOTLYENV || {};                                    if (document.getElementById(\"c1c6b918-ebc2-407e-a8f3-57c4af762d30\")) {                    Plotly.newPlot(                        \"c1c6b918-ebc2-407e-a8f3-57c4af762d30\",                        [{\"hoverinfo\":\"y+text\",\"hovertext\":[\"2023-07-28T09:35:00\",\"2023-07-28T09:39:00\",\"2023-07-28T09:40:00\",\"2023-07-28T09:45:00\",\"2023-07-28T09:47:00\",\"2023-07-28T09:50:00\",\"2023-07-28T09:51:00\",\"2023-07-28T09:58:00\",\"2023-07-28T10:12:00\",\"2023-07-28T10:13:00\",\"2023-07-28T10:14:00\",\"2023-07-28T10:18:00\",\"2023-07-28T10:38:00\",\"2023-07-28T10:39:00\",\"2023-07-28T10:43:00\",\"2023-07-28T10:45:00\",\"2023-07-28T10:47:00\",\"2023-07-28T10:48:00\",\"2023-07-28T11:34:00\",\"2023-07-28T11:38:00\",\"2023-07-28T12:12:00\",\"2023-07-28T12:13:00\",\"2023-07-28T12:15:00\",\"2023-07-28T12:18:00\",\"2023-07-28T12:23:00\",\"2023-07-28T12:24:00\",\"2023-07-28T12:39:00\",\"2023-07-28T12:46:00\",\"2023-07-28T13:06:00\",\"2023-07-28T13:07:00\",\"2023-07-28T13:12:00\",\"2023-07-28T13:13:00\",\"2023-07-28T13:35:00\",\"2023-07-28T13:37:00\",\"2023-07-28T13:38:00\",\"2023-07-28T13:39:00\",\"2023-07-28T13:59:00\",\"2023-07-28T14:02:00\",\"2023-07-28T14:06:00\",\"2023-07-28T14:11:00\",\"2023-07-28T14:12:00\",\"2023-07-28T14:13:00\",\"2023-07-28T14:15:00\",\"2023-07-28T14:17:00\",\"2023-07-28T14:23:00\",\"2023-07-28T14:30:00\",\"2023-07-28T14:31:00\",\"2023-07-28T14:35:00\",\"2023-07-28T14:37:00\",\"2023-07-28T14:38:00\",\"2023-07-28T14:42:00\",\"2023-07-28T14:43:00\",\"2023-07-28T14:47:00\",\"2023-07-28T14:52:00\",\"2023-07-29T09:16:00\",\"2023-07-29T09:25:00\",\"2023-07-31T09:25:00\",\"2023-07-31T09:31:00\",\"2023-07-31T09:40:00\",\"2023-07-31T09:41:00\",\"2023-07-31T09:42:00\",\"2023-07-31T09:46:00\",\"2023-07-31T09:49:00\",\"2023-07-31T09:53:00\",\"2023-07-31T09:54:00\",\"2023-07-31T09:56:00\",\"2023-07-31T10:00:00\",\"2023-07-31T10:02:00\",\"2023-07-31T10:03:00\",\"2023-07-31T10:06:00\",\"2023-07-31T10:07:00\",\"2023-07-31T10:13:00\",\"2023-07-31T10:42:00\",\"2023-07-31T10:44:00\",\"2023-07-31T10:47:00\",\"2023-07-31T10:48:00\",\"2023-07-31T10:49:00\",\"2023-07-31T10:55:00\",\"2023-07-31T10:56:00\",\"2023-07-31T10:58:00\",\"2023-07-31T11:04:00\",\"2023-07-31T11:08:00\",\"2023-07-31T11:21:00\",\"2023-07-31T11:22:00\",\"2023-07-31T11:26:00\",\"2023-07-31T11:27:00\",\"2023-07-31T11:28:00\",\"2023-07-31T11:34:00\",\"2023-07-31T12:44:00\",\"2023-07-31T12:46:00\",\"2023-07-31T12:48:00\",\"2023-07-31T12:54:00\",\"2023-07-31T12:56:00\",\"2023-07-31T12:57:00\",\"2023-07-31T13:05:00\",\"2023-07-31T13:06:00\",\"2023-07-31T13:12:00\",\"2023-07-31T13:15:00\",\"2023-07-31T13:18:00\",\"2023-07-31T13:21:00\",\"2023-07-31T13:22:00\",\"2023-07-31T13:24:00\",\"2023-07-31T13:55:00\",\"2023-07-31T13:56:00\",\"2023-07-31T14:16:00\",\"2023-07-31T14:24:00\",\"2023-07-31T14:26:00\",\"2023-07-31T14:28:00\",\"2023-07-31T14:31:00\",\"2023-07-31T14:33:00\",\"2023-07-31T14:37:00\",\"2023-07-31T14:40:00\",\"2023-07-31T14:41:00\",\"2023-07-31T14:43:00\",\"2023-07-31T14:52:00\",\"2023-07-31T14:58:00\",\"2023-07-31T15:01:00\",\"2023-07-31T15:06:00\",\"2023-07-31T15:08:00\",\"2023-07-31T15:15:00\",\"2023-08-01T09:31:00\",\"2023-08-01T09:36:00\",\"2023-08-01T10:00:00\",\"2023-08-01T10:04:00\",\"2023-08-01T10:06:00\",\"2023-08-01T10:11:00\",\"2023-08-01T10:14:00\",\"2023-08-01T10:16:00\",\"2023-08-01T11:59:00\",\"2023-08-01T12:00:00\",\"2023-08-01T12:52:00\",\"2023-08-01T12:59:00\",\"2023-08-01T13:00:00\",\"2023-08-01T13:04:00\",\"2023-08-01T13:06:00\",\"2023-08-01T13:07:00\",\"2023-08-01T13:14:00\",\"2023-08-01T13:17:00\",\"2023-08-01T13:19:00\",\"2023-08-01T13:21:00\",\"2023-08-01T13:30:00\",\"2023-08-01T13:39:00\",\"2023-08-01T13:40:00\",\"2023-08-01T13:41:00\",\"2023-08-01T14:22:00\",\"2023-08-01T14:23:00\",\"2023-08-01T14:25:00\",\"2023-08-01T14:26:00\",\"2023-08-01T14:27:00\",\"2023-08-01T14:31:00\",\"2023-08-01T14:32:00\",\"2023-08-01T14:36:00\",\"2023-08-01T14:40:00\",\"2023-08-01T14:41:00\",\"2023-08-01T14:42:00\",\"2023-08-01T14:43:00\",\"2023-08-02T09:35:00\",\"2023-08-02T09:39:00\",\"2023-08-02T09:40:00\",\"2023-08-02T09:45:00\",\"2023-08-02T09:58:00\",\"2023-08-02T10:02:00\",\"2023-08-02T11:25:00\",\"2023-08-02T11:26:00\",\"2023-08-02T12:07:00\",\"2023-08-02T12:08:00\",\"2023-08-02T12:10:00\",\"2023-08-02T12:13:00\",\"2023-08-02T12:16:00\",\"2023-08-02T12:17:00\",\"2023-08-02T12:25:00\",\"2023-08-02T12:26:00\",\"2023-08-02T12:31:00\",\"2023-08-02T12:39:00\",\"2023-08-02T12:40:00\",\"2023-08-02T12:44:00\",\"2023-08-02T13:13:00\",\"2023-08-02T13:14:00\",\"2023-08-02T13:56:00\",\"2023-08-02T13:57:00\",\"2023-08-02T14:03:00\",\"2023-08-02T14:05:00\",\"2023-08-02T14:08:00\",\"2023-08-02T14:10:00\",\"2023-08-02T14:38:00\",\"2023-08-02T14:39:00\",\"2023-08-02T14:40:00\",\"2023-08-02T14:43:00\",\"2023-08-02T14:44:00\",\"2023-08-02T14:49:00\",\"2023-08-02T14:50:00\",\"2023-08-02T14:51:00\",\"2023-08-02T14:56:00\",\"2023-08-02T15:03:00\",\"2023-08-02T15:12:00\",\"2023-08-02T15:13:00\",\"2023-08-02T15:14:00\",\"2023-08-02T15:15:00\",\"2023-08-03T09:28:00\",\"2023-08-03T09:29:00\",\"2023-08-03T09:30:00\",\"2023-08-03T09:33:00\",\"2023-08-03T09:52:00\",\"2023-08-03T09:56:00\",\"2023-08-03T09:57:00\",\"2023-08-03T09:57:00\",\"2023-08-03T10:30:00\",\"2023-08-03T10:35:00\",\"2023-08-03T10:56:00\",\"2023-08-03T10:58:00\",\"2023-08-03T11:03:00\",\"2023-08-03T11:07:00\",\"2023-08-03T11:08:00\",\"2023-08-03T11:12:00\",\"2023-08-03T11:13:00\",\"2023-08-03T11:14:00\",\"2023-08-03T11:29:00\",\"2023-08-03T11:31:00\",\"2023-08-03T11:32:00\",\"2023-08-03T11:37:00\",\"2023-08-03T12:00:00\",\"2023-08-03T12:03:00\",\"2023-08-03T12:43:00\",\"2023-08-03T12:44:00\",\"2023-08-03T13:06:00\",\"2023-08-03T13:07:00\",\"2023-08-03T13:08:00\",\"2023-08-03T13:16:00\",\"2023-08-03T13:17:00\",\"2023-08-03T13:19:00\",\"2023-08-03T14:21:00\",\"2023-08-03T14:26:00\",\"2023-08-03T14:27:00\",\"2023-08-03T14:31:00\",\"2023-08-03T14:32:00\",\"2023-08-03T14:34:00\",\"2023-08-03T14:35:00\",\"2023-08-03T14:39:00\",\"2023-08-03T14:40:00\",\"2023-08-03T14:43:00\",\"2023-08-03T14:59:00\",\"2023-08-03T15:07:00\",\"2023-08-03T15:14:00\",\"2023-08-03T15:15:00\",\"2023-08-04T09:19:00\",\"2023-08-04T09:20:00\",\"2023-08-04T09:21:00\",\"2023-08-04T09:23:00\",\"2023-08-04T09:55:00\",\"2023-08-04T09:58:00\",\"2023-08-04T09:59:00\",\"2023-08-04T10:01:00\",\"2023-08-04T10:10:00\",\"2023-08-04T10:16:00\",\"2023-08-04T10:20:00\",\"2023-08-04T10:26:00\",\"2023-08-04T10:28:00\",\"2023-08-04T10:31:00\",\"2023-08-04T10:41:00\",\"2023-08-04T10:44:00\",\"2023-08-04T10:45:00\",\"2023-08-04T10:49:00\",\"2023-08-04T11:01:00\",\"2023-08-04T11:09:00\",\"2023-08-04T11:11:00\",\"2023-08-04T11:14:00\",\"2023-08-04T11:16:00\",\"2023-08-04T11:18:00\",\"2023-08-04T11:19:00\",\"2023-08-04T11:21:00\",\"2023-08-04T11:22:00\",\"2023-08-04T11:29:00\",\"2023-08-04T11:47:00\",\"2023-08-04T11:51:00\",\"2023-08-04T11:54:00\",\"2023-08-04T11:55:00\",\"2023-08-04T12:16:00\",\"2023-08-04T12:19:00\",\"2023-08-04T12:20:00\",\"2023-08-04T12:25:00\",\"2023-08-04T12:50:00\",\"2023-08-04T12:52:00\",\"2023-08-04T12:53:00\",\"2023-08-04T12:57:00\",\"2023-08-04T13:21:00\",\"2023-08-04T13:22:00\",\"2023-08-04T14:20:00\",\"2023-08-04T14:21:00\",\"2023-08-04T14:22:00\",\"2023-08-04T14:22:00\",\"2023-08-04T14:23:00\",\"2023-08-04T14:24:00\",\"2023-08-04T14:25:00\",\"2023-08-04T14:26:00\",\"2023-08-07T09:16:00\",\"2023-08-07T09:17:00\",\"2023-08-07T09:18:00\",\"2023-08-07T09:18:00\",\"2023-08-07T09:46:00\",\"2023-08-07T09:46:00\",\"2023-08-07T10:07:00\",\"2023-08-07T10:11:00\",\"2023-08-07T10:12:00\",\"2023-08-07T10:13:00\",\"2023-08-07T10:32:00\",\"2023-08-07T10:34:00\",\"2023-08-07T10:37:00\",\"2023-08-07T10:39:00\",\"2023-08-07T11:13:00\",\"2023-08-07T11:14:00\",\"2023-08-07T11:22:00\",\"2023-08-07T11:23:00\",\"2023-08-07T11:41:00\",\"2023-08-07T11:42:00\",\"2023-08-07T11:43:00\",\"2023-08-07T11:50:00\",\"2023-08-07T11:51:00\",\"2023-08-07T11:53:00\",\"2023-08-07T12:03:00\",\"2023-08-07T12:05:00\",\"2023-08-07T12:25:00\",\"2023-08-07T12:29:00\",\"2023-08-07T12:55:00\",\"2023-08-07T12:57:00\",\"2023-08-07T13:19:00\",\"2023-08-07T13:23:00\",\"2023-08-07T13:41:00\",\"2023-08-07T13:45:00\",\"2023-08-07T14:22:00\",\"2023-08-07T14:24:00\",\"2023-08-07T14:26:00\",\"2023-08-07T14:26:00\",\"2023-08-07T14:27:00\",\"2023-08-07T14:32:00\",\"2023-08-07T14:51:00\",\"2023-08-07T14:54:00\",\"2023-08-07T15:01:00\",\"2023-08-07T15:03:00\",\"2023-08-07T15:09:00\",\"2023-08-07T15:15:00\",\"2023-08-08T09:16:00\",\"2023-08-08T09:21:00\",\"2023-08-08T09:22:00\",\"2023-08-08T09:23:00\",\"2023-08-08T09:46:00\",\"2023-08-08T09:51:00\",\"2023-08-08T09:57:00\",\"2023-08-08T09:58:00\",\"2023-08-08T09:59:00\",\"2023-08-08T10:07:00\",\"2023-08-08T10:11:00\",\"2023-08-08T10:12:00\",\"2023-08-08T10:13:00\",\"2023-08-08T10:16:00\",\"2023-08-08T10:22:00\",\"2023-08-08T10:24:00\",\"2023-08-08T10:36:00\",\"2023-08-08T10:43:00\",\"2023-08-08T10:44:00\",\"2023-08-08T10:46:00\",\"2023-08-08T11:40:00\",\"2023-08-08T11:48:00\",\"2023-08-08T11:49:00\",\"2023-08-08T11:53:00\",\"2023-08-08T11:54:00\",\"2023-08-08T11:57:00\",\"2023-08-08T12:09:00\",\"2023-08-08T12:10:00\",\"2023-08-08T12:15:00\",\"2023-08-08T12:19:00\",\"2023-08-08T12:38:00\",\"2023-08-08T12:40:00\",\"2023-08-08T13:20:00\",\"2023-08-08T13:23:00\",\"2023-08-08T13:29:00\",\"2023-08-08T13:30:00\",\"2023-08-08T13:52:00\",\"2023-08-08T13:54:00\",\"2023-08-08T13:55:00\",\"2023-08-08T13:58:00\",\"2023-08-08T14:00:00\",\"2023-08-08T14:03:00\",\"2023-08-08T14:04:00\",\"2023-08-08T14:07:00\",\"2023-08-08T14:08:00\",\"2023-08-08T14:09:00\",\"2023-08-09T09:17:00\",\"2023-08-09T09:18:00\",\"2023-08-09T10:05:00\",\"2023-08-09T10:06:00\",\"2023-08-09T10:07:00\",\"2023-08-09T10:09:00\",\"2023-08-09T10:31:00\",\"2023-08-09T10:32:00\",\"2023-08-09T10:36:00\",\"2023-08-09T10:47:00\",\"2023-08-09T11:58:00\",\"2023-08-09T12:01:00\",\"2023-08-09T12:03:00\",\"2023-08-09T12:06:00\",\"2023-08-09T12:09:00\",\"2023-08-09T12:11:00\",\"2023-08-09T12:35:00\",\"2023-08-09T12:48:00\",\"2023-08-09T12:55:00\",\"2023-08-09T12:57:00\",\"2023-08-09T13:19:00\",\"2023-08-09T13:30:00\",\"2023-08-09T13:56:00\",\"2023-08-09T13:57:00\",\"2023-08-09T13:58:00\",\"2023-08-09T14:18:00\",\"2023-08-09T14:28:00\",\"2023-08-09T14:30:00\",\"2023-08-09T14:39:00\",\"2023-08-09T14:41:00\",\"2023-08-09T14:42:00\",\"2023-08-09T14:49:00\",\"2023-08-09T14:53:00\",\"2023-08-09T15:00:00\",\"2023-08-09T15:01:00\",\"2023-08-09T15:02:00\",\"2023-08-09T15:06:00\",\"2023-08-09T15:09:00\",\"2023-08-09T15:13:00\",\"2023-08-09T15:15:00\",\"2023-08-10T09:34:00\",\"2023-08-10T09:40:00\",\"2023-08-10T10:01:00\",\"2023-08-10T10:01:00\",\"2023-08-10T10:02:00\",\"2023-08-10T10:03:00\",\"2023-08-10T10:04:00\",\"2023-08-10T10:04:00\",\"2023-08-10T10:05:00\",\"2023-08-10T10:11:00\",\"2023-08-10T10:14:00\",\"2023-08-10T10:17:00\",\"2023-08-10T10:45:00\",\"2023-08-10T10:46:00\",\"2023-08-10T10:47:00\",\"2023-08-10T10:53:00\",\"2023-08-10T10:54:00\",\"2023-08-10T10:55:00\",\"2023-08-10T10:56:00\",\"2023-08-10T10:59:00\",\"2023-08-10T11:07:00\",\"2023-08-10T11:08:00\",\"2023-08-10T11:19:00\",\"2023-08-10T11:20:00\",\"2023-08-10T11:21:00\",\"2023-08-10T11:22:00\",\"2023-08-10T11:31:00\",\"2023-08-10T11:43:00\",\"2023-08-10T11:44:00\",\"2023-08-10T11:49:00\",\"2023-08-10T11:51:00\",\"2023-08-10T12:00:00\",\"2023-08-10T12:49:00\",\"2023-08-10T12:50:00\",\"2023-08-10T12:51:00\",\"2023-08-10T12:53:00\",\"2023-08-10T12:54:00\",\"2023-08-10T12:57:00\",\"2023-08-10T13:16:00\",\"2023-08-10T13:18:00\",\"2023-08-10T13:19:00\",\"2023-08-10T13:20:00\",\"2023-08-10T14:08:00\",\"2023-08-10T14:09:00\",\"2023-08-10T14:10:00\",\"2023-08-10T14:14:00\",\"2023-08-10T14:16:00\",\"2023-08-10T14:18:00\",\"2023-08-10T14:38:00\",\"2023-08-10T14:39:00\",\"2023-08-10T14:40:00\",\"2023-08-10T14:41:00\",\"2023-08-10T14:56:00\",\"2023-08-10T15:00:00\",\"2023-08-10T15:02:00\",\"2023-08-10T15:08:00\",\"2023-08-10T15:09:00\",\"2023-08-10T15:12:00\",\"2023-08-10T15:13:00\",\"2023-08-10T15:14:00\",\"2023-08-11T09:16:00\",\"2023-08-11T09:17:00\",\"2023-08-11T09:44:00\",\"2023-08-11T09:44:00\",\"2023-08-11T09:45:00\",\"2023-08-11T09:50:00\",\"2023-08-11T09:53:00\",\"2023-08-11T09:55:00\",\"2023-08-11T09:56:00\",\"2023-08-11T10:03:00\",\"2023-08-11T11:23:00\",\"2023-08-11T11:28:00\",\"2023-08-11T11:29:00\",\"2023-08-11T11:41:00\",\"2023-08-11T11:42:00\",\"2023-08-11T11:47:00\",\"2023-08-11T11:48:00\",\"2023-08-11T11:53:00\",\"2023-08-11T12:01:00\",\"2023-08-11T12:02:00\",\"2023-08-11T12:47:00\",\"2023-08-11T12:49:00\",\"2023-08-11T13:03:00\",\"2023-08-11T13:07:00\",\"2023-08-11T13:08:00\",\"2023-08-11T13:12:00\"],\"mode\":\"lines\",\"name\":\"Cumulative Equity\",\"x\":[0,1,2,3,4,5,6,7,8,9,10,11,12,13,14,15,16,17,18,19,20,21,22,23,24,25,26,27,28,29,30,31,32,33,34,35,36,37,38,39,40,41,42,43,44,45,46,47,48,49,50,51,52,53,54,55,56,57,58,59,60,61,62,63,64,65,66,67,68,69,70,71,72,73,74,75,76,77,78,79,80,81,82,83,84,85,86,87,88,89,90,91,92,93,94,95,96,97,98,99,100,101,102,103,104,105,106,107,108,109,110,111,112,113,114,115,116,117,118,119,120,121,122,123,124,125,126,127,128,129,130,131,132,133,134,135,136,137,138,139,140,141,142,143,144,145,146,147,148,149,150,151,152,153,154,155,156,157,158,159,160,161,162,163,164,165,166,167,168,169,170,171,172,173,174,175,176,177,178,179,180,181,182,183,184,185,186,187,188,189,190,191,192,193,194,195,196,197,198,199,200,201,202,203,204,205,206,207,208,209,210,211,212,213,214,215,216,217,218,219,220,221,222,223,224,225,226,227,228,229,230,231,232,233,234,235,236,237,238,239,240,241,242,243,244,245,246,247,248,249,250,251,252,253,254,255,256,257,258,259,260,261,262,263,264,265,266,267,268,269,270,271,272,273,274,275,276,277,278,279,280,281,282,283,284,285,286,287,288,289,290,291,292,293,294,295,296,297,298,299,300,301,302,303,304,305,306,307,308,309,310,311,312,313,314,315,316,317,318,319,320,321,322,323,324,325,326,327,328,329,330,331,332,333,334,335,336,337,338,339,340,341,342,343,344,345,346,347,348,349,350,351,352,353,354,355,356,357,358,359,360,361,362,363,364,365,366,367,368,369,370,371,372,373,374,375,376,377,378,379,380,381,382,383,384,385,386,387,388,389,390,391,392,393,394,395,396,397,398,399,400,401,402,403,404,405,406,407,408,409,410,411,412,413,414,415,416,417,418,419,420,421,422,423,424,425,426,427,428,429,430,431,432,433,434,435,436,437,438,439,440,441,442,443,444,445,446,447,448,449,450,451,452,453,454,455,456,457,458,459,460,461,462,463,464,465,466,467,468,469,470,471,472,473,474,475,476,477,478,479,480,481,482,483,484,485,486,487,488,489,490,491,492,493,494,495,496,497,498,499,500,501,502,503,504,505,506,507,508,509,510,511],\"y\":[100000000.0,99999998.75,99999998.75,99999998.8,99999998.8,99999997.55,99999997.55,99999998.1,99999998.1,99999998.44999999,99999998.44999999,99999998.64999999,99999998.64999999,99999998.74999999,99999998.74999999,99999998.84999998,99999998.84999998,99999998.89999998,99999998.89999998,99999998.69999997,99999998.69999997,99999999.19999997,99999999.19999997,99999999.64999998,99999999.64999998,100000000.09999998,100000000.09999998,99999999.99999999,99999999.99999999,100000000.19999999,100000000.19999999,100000000.39999999,100000000.39999999,100000000.8,100000000.8,100000001.0,100000001.0,100000001.25,100000001.25,100000000.8,100000000.8,100000001.05,100000001.05,100000001.25,100000001.25,100000000.0,100000000.0,99999999.95,99999999.95,100000000.4,100000000.4,100000001.35000001,100000001.35000001,100000001.25000001,100000001.25000001,100000001.25000001,100000001.25000001,100000001.10000001,100000001.10000001,100000001.15,100000001.15,100000001.75,100000001.75,100000001.9,100000001.9,100000002.35000001,100000002.35000001,100000002.55000001,100000002.55000001,100000001.30000001,100000001.30000001,100000001.70000002,100000001.70000002,100000002.15000002,100000002.15000002,100000002.60000002,100000002.60000002,100000002.35000002,100000002.35000002,100000002.60000002,100000002.60000002,100000002.90000002,100000002.90000002,100000002.95000002,100000002.95000002,100000002.55000001,100000002.55000001,100000003.15,100000003.15,100000003.15,100000003.15,100000002.85000001,100000002.85000001,100000003.2,100000003.2,100000003.7,100000003.7,100000003.9,100000003.9,100000004.55000001,100000004.55000001,100000005.00000001,100000005.00000001,100000005.55000001,100000005.55000001,100000005.35000001,100000005.35000001,100000005.45,100000005.45,100000005.60000001,100000005.60000001,100000005.45,100000005.45,100000005.7,100000005.7,100000005.45,100000005.45,100000005.2,100000005.2,100000004.95,100000004.95,100000005.2,100000005.2,100000005.5,100000005.5,100000005.35,100000005.35,100000005.25,100000005.25,100000005.25,100000005.25,100000005.1,100000005.1,100000005.05,100000005.05,100000005.35,100000005.35,100000005.14999999,100000005.14999999,100000005.1,100000005.1,100000003.85,100000003.85,100000004.6,100000004.6,100000005.0,100000005.0,100000005.35,100000005.35,100000004.14999999,100000004.14999999,100000004.39999999,100000004.39999999,100000004.49999999,100000004.49999999,100000004.79999998,100000004.79999998,100000004.84999998,100000004.84999998,100000004.34999998,100000004.34999998,100000004.94999997,100000004.94999997,100000005.09999998,100000005.09999998,100000005.09999998,100000005.09999998,100000005.54999998,100000005.54999998,100000005.79999998,100000005.79999998,100000005.94999999,100000005.94999999,100000004.74999999,100000004.74999999,100000005.39999999,100000005.39999999,100000005.35,100000005.35,100000006.44999999,100000006.44999999,100000006.99999999,100000006.99999999,100000007.09999998,100000007.09999998,100000007.74999999,100000007.74999999,100000006.54999998,100000006.54999998,100000007.14999998,100000007.14999998,100000007.14999998,100000007.14999998,100000007.24999997,100000007.24999997,100000006.04999997,100000006.04999997,100000006.04999997,100000006.04999997,100000006.84999996,100000006.84999996,100000006.89999996,100000006.89999996,100000008.09999996,100000008.09999996,100000009.29999997,100000009.29999997,100000009.59999996,100000009.59999996,100000010.44999996,100000010.44999996,100000009.99999996,100000009.99999996,100000009.89999996,100000009.89999996,100000010.14999996,100000010.14999996,100000008.94999996,100000008.94999996,100000009.79999995,100000009.79999995,100000010.39999995,100000010.39999995,100000010.49999994,100000010.49999994,100000009.29999994,100000009.29999994,100000008.09999993,100000008.09999993,100000008.54999994,100000008.54999994,100000008.34999993,100000008.34999993,100000007.14999993,100000007.14999993,100000007.99999993,100000007.99999993,100000006.79999992,100000006.79999992,100000007.84999992,100000007.84999992,100000007.54999992,100000007.54999992,100000006.34999992,100000006.34999992,100000005.14999992,100000005.14999992,100000006.34999992,100000006.34999992,100000006.89999992,100000006.89999992,100000007.14999992,100000007.14999992,100000006.94999991,100000006.94999991,100000006.54999991,100000006.54999991,100000006.8499999,100000006.8499999,100000005.6499999,100000005.6499999,100000006.5999999,100000006.5999999,100000005.9499999,100000005.9499999,100000006.0499999,100000006.0499999,100000006.4999999,100000006.4999999,100000005.2999999,100000005.2999999,100000005.5499999,100000005.5499999,100000005.9499999,100000005.9499999,100000006.5499999,100000006.5499999,100000007.0499999,100000007.0499999,100000006.89999989,100000006.89999989,100000007.19999988,100000007.19999988,100000007.54999988,100000007.54999988,100000008.09999987,100000008.09999987,100000006.94999987,100000006.94999987,100000005.79999986,100000005.79999986,100000006.94999987,100000006.94999987,100000007.64999987,100000007.64999987,100000006.49999987,100000006.49999987,100000007.64999987,100000007.64999987,100000008.79999988,100000008.79999988,100000008.89999987,100000008.89999987,100000009.14999987,100000009.14999987,100000009.64999987,100000009.64999987,100000009.99999987,100000009.99999987,100000010.44999987,100000010.44999987,100000010.74999987,100000010.74999987,100000009.59999986,100000009.59999986,100000010.19999985,100000010.19999985,100000010.24999985,100000010.24999985,100000010.29999985,100000010.29999985,100000010.59999985,100000010.59999985,100000011.04999985,100000011.04999985,100000011.79999985,100000011.79999985,100000011.84999985,100000011.84999985,100000011.84999985,100000011.84999985,100000010.69999984,100000010.69999984,100000011.39999984,100000011.39999984,100000011.39999984,100000011.39999984,100000011.29999985,100000011.29999985,100000010.99999985,100000010.99999985,100000011.69999985,100000011.69999985,100000011.94999985,100000011.94999985,100000012.19999985,100000012.19999985,100000011.04999985,100000011.04999985,100000011.09999985,100000011.09999985,100000010.84999985,100000010.84999985,100000011.74999985,100000011.74999985,100000012.04999985,100000012.04999985,100000012.09999985,100000012.09999985,100000012.59999985,100000012.59999985,100000012.69999984,100000012.69999984,100000011.54999983,100000011.54999983,100000011.89999983,100000011.89999983,100000011.89999983,100000011.89999983,100000012.09999983,100000012.09999983,100000012.59999983,100000012.59999983,100000012.84999983,100000012.84999983,100000013.19999982,100000013.19999982,100000012.04999982,100000012.04999982,100000012.19999982,100000012.19999982,100000011.04999982,100000011.04999982,100000011.69999982,100000011.69999982,100000012.29999982,100000012.29999982,100000012.44999982,100000012.44999982,100000012.59999983,100000012.59999983,100000012.79999983,100000012.79999983,100000013.04999983,100000013.04999983,100000012.74999984,100000012.74999984,100000012.69999984,100000012.69999984,100000012.89999984,100000012.89999984,100000012.94999984,100000012.94999984,100000012.64999984,100000012.64999984,100000012.99999984,100000012.99999984,100000012.34999983,100000012.34999983,100000012.39999983,100000012.39999983,100000011.79999983,100000011.79999983,100000011.94999984,100000011.94999984,100000010.79999983,100000010.79999983,100000011.29999983,100000011.29999983,100000011.24999984,100000011.24999984,100000011.29999983,100000011.29999983,100000011.49999984,100000011.49999984,100000011.79999983,100000011.79999983,100000012.14999983,100000012.14999983,100000010.99999982,100000010.99999982,100000009.84999982,100000009.84999982,100000010.99999982,100000010.99999982,100000011.04999982,100000011.04999982,100000011.04999982,100000011.04999982,100000010.74999982,100000010.74999982,100000009.59999982,100000009.59999982,100000010.74999982,100000010.74999982,100000011.34999982,100000011.34999982,100000011.74999982,100000011.74999982,100000011.94999982,100000011.94999982,100000012.19999982,100000012.19999982,100000011.04999982,100000011.04999982,100000011.64999981,100000011.64999981,100000011.39999981,100000011.39999981,100000011.84999982,100000011.84999982,100000010.69999981,100000010.69999981,100000011.4999998,100000011.4999998,100000011.7999998,100000011.7999998,100000012.0999998,100000012.0999998,100000010.9499998,100000010.9499998,100000011.8499998,100000011.8499998,100000012.2999998,100000012.2999998,100000012.7999998,100000012.7999998,100000013.0499998,100000013.0499998,100000012.8499998,100000012.8499998,100000011.6999998,100000011.6999998,100000012.1499998,100000012.1499998,100000012.5499998,100000012.5499998,100000013.0499998,100000013.0499998,100000011.8999998,100000011.8999998,100000012.4499998,100000012.4499998,100000011.29999979,100000011.29999979,100000011.99999979,100000011.99999979,100000010.84999979,100000010.84999979,100000010.24999979,100000010.24999979,100000009.09999979,100000009.09999979,100000009.74999979,100000009.74999979,100000010.1999998,100000010.1999998,100000010.74999979,100000010.74999979,100000009.59999979,100000009.59999979,100000010.24999979],\"type\":\"scatter\"}],                        {\"template\":{\"data\":{\"histogram2dcontour\":[{\"type\":\"histogram2dcontour\",\"colorbar\":{\"outlinewidth\":0,\"ticks\":\"\"},\"colorscale\":[[0.0,\"#0d0887\"],[0.1111111111111111,\"#46039f\"],[0.2222222222222222,\"#7201a8\"],[0.3333333333333333,\"#9c179e\"],[0.4444444444444444,\"#bd3786\"],[0.5555555555555556,\"#d8576b\"],[0.6666666666666666,\"#ed7953\"],[0.7777777777777778,\"#fb9f3a\"],[0.8888888888888888,\"#fdca26\"],[1.0,\"#f0f921\"]]}],\"choropleth\":[{\"type\":\"choropleth\",\"colorbar\":{\"outlinewidth\":0,\"ticks\":\"\"}}],\"histogram2d\":[{\"type\":\"histogram2d\",\"colorbar\":{\"outlinewidth\":0,\"ticks\":\"\"},\"colorscale\":[[0.0,\"#0d0887\"],[0.1111111111111111,\"#46039f\"],[0.2222222222222222,\"#7201a8\"],[0.3333333333333333,\"#9c179e\"],[0.4444444444444444,\"#bd3786\"],[0.5555555555555556,\"#d8576b\"],[0.6666666666666666,\"#ed7953\"],[0.7777777777777778,\"#fb9f3a\"],[0.8888888888888888,\"#fdca26\"],[1.0,\"#f0f921\"]]}],\"heatmap\":[{\"type\":\"heatmap\",\"colorbar\":{\"outlinewidth\":0,\"ticks\":\"\"},\"colorscale\":[[0.0,\"#0d0887\"],[0.1111111111111111,\"#46039f\"],[0.2222222222222222,\"#7201a8\"],[0.3333333333333333,\"#9c179e\"],[0.4444444444444444,\"#bd3786\"],[0.5555555555555556,\"#d8576b\"],[0.6666666666666666,\"#ed7953\"],[0.7777777777777778,\"#fb9f3a\"],[0.8888888888888888,\"#fdca26\"],[1.0,\"#f0f921\"]]}],\"heatmapgl\":[{\"type\":\"heatmapgl\",\"colorbar\":{\"outlinewidth\":0,\"ticks\":\"\"},\"colorscale\":[[0.0,\"#0d0887\"],[0.1111111111111111,\"#46039f\"],[0.2222222222222222,\"#7201a8\"],[0.3333333333333333,\"#9c179e\"],[0.4444444444444444,\"#bd3786\"],[0.5555555555555556,\"#d8576b\"],[0.6666666666666666,\"#ed7953\"],[0.7777777777777778,\"#fb9f3a\"],[0.8888888888888888,\"#fdca26\"],[1.0,\"#f0f921\"]]}],\"contourcarpet\":[{\"type\":\"contourcarpet\",\"colorbar\":{\"outlinewidth\":0,\"ticks\":\"\"}}],\"contour\":[{\"type\":\"contour\",\"colorbar\":{\"outlinewidth\":0,\"ticks\":\"\"},\"colorscale\":[[0.0,\"#0d0887\"],[0.1111111111111111,\"#46039f\"],[0.2222222222222222,\"#7201a8\"],[0.3333333333333333,\"#9c179e\"],[0.4444444444444444,\"#bd3786\"],[0.5555555555555556,\"#d8576b\"],[0.6666666666666666,\"#ed7953\"],[0.7777777777777778,\"#fb9f3a\"],[0.8888888888888888,\"#fdca26\"],[1.0,\"#f0f921\"]]}],\"surface\":[{\"type\":\"surface\",\"colorbar\":{\"outlinewidth\":0,\"ticks\":\"\"},\"colorscale\":[[0.0,\"#0d0887\"],[0.1111111111111111,\"#46039f\"],[0.2222222222222222,\"#7201a8\"],[0.3333333333333333,\"#9c179e\"],[0.4444444444444444,\"#bd3786\"],[0.5555555555555556,\"#d8576b\"],[0.6666666666666666,\"#ed7953\"],[0.7777777777777778,\"#fb9f3a\"],[0.8888888888888888,\"#fdca26\"],[1.0,\"#f0f921\"]]}],\"mesh3d\":[{\"type\":\"mesh3d\",\"colorbar\":{\"outlinewidth\":0,\"ticks\":\"\"}}],\"scatter\":[{\"fillpattern\":{\"fillmode\":\"overlay\",\"size\":10,\"solidity\":0.2},\"type\":\"scatter\"}],\"parcoords\":[{\"type\":\"parcoords\",\"line\":{\"colorbar\":{\"outlinewidth\":0,\"ticks\":\"\"}}}],\"scatterpolargl\":[{\"type\":\"scatterpolargl\",\"marker\":{\"colorbar\":{\"outlinewidth\":0,\"ticks\":\"\"}}}],\"bar\":[{\"error_x\":{\"color\":\"#2a3f5f\"},\"error_y\":{\"color\":\"#2a3f5f\"},\"marker\":{\"line\":{\"color\":\"#E5ECF6\",\"width\":0.5},\"pattern\":{\"fillmode\":\"overlay\",\"size\":10,\"solidity\":0.2}},\"type\":\"bar\"}],\"scattergeo\":[{\"type\":\"scattergeo\",\"marker\":{\"colorbar\":{\"outlinewidth\":0,\"ticks\":\"\"}}}],\"scatterpolar\":[{\"type\":\"scatterpolar\",\"marker\":{\"colorbar\":{\"outlinewidth\":0,\"ticks\":\"\"}}}],\"histogram\":[{\"marker\":{\"pattern\":{\"fillmode\":\"overlay\",\"size\":10,\"solidity\":0.2}},\"type\":\"histogram\"}],\"scattergl\":[{\"type\":\"scattergl\",\"marker\":{\"colorbar\":{\"outlinewidth\":0,\"ticks\":\"\"}}}],\"scatter3d\":[{\"type\":\"scatter3d\",\"line\":{\"colorbar\":{\"outlinewidth\":0,\"ticks\":\"\"}},\"marker\":{\"colorbar\":{\"outlinewidth\":0,\"ticks\":\"\"}}}],\"scattermapbox\":[{\"type\":\"scattermapbox\",\"marker\":{\"colorbar\":{\"outlinewidth\":0,\"ticks\":\"\"}}}],\"scatterternary\":[{\"type\":\"scatterternary\",\"marker\":{\"colorbar\":{\"outlinewidth\":0,\"ticks\":\"\"}}}],\"scattercarpet\":[{\"type\":\"scattercarpet\",\"marker\":{\"colorbar\":{\"outlinewidth\":0,\"ticks\":\"\"}}}],\"carpet\":[{\"aaxis\":{\"endlinecolor\":\"#2a3f5f\",\"gridcolor\":\"white\",\"linecolor\":\"white\",\"minorgridcolor\":\"white\",\"startlinecolor\":\"#2a3f5f\"},\"baxis\":{\"endlinecolor\":\"#2a3f5f\",\"gridcolor\":\"white\",\"linecolor\":\"white\",\"minorgridcolor\":\"white\",\"startlinecolor\":\"#2a3f5f\"},\"type\":\"carpet\"}],\"table\":[{\"cells\":{\"fill\":{\"color\":\"#EBF0F8\"},\"line\":{\"color\":\"white\"}},\"header\":{\"fill\":{\"color\":\"#C8D4E3\"},\"line\":{\"color\":\"white\"}},\"type\":\"table\"}],\"barpolar\":[{\"marker\":{\"line\":{\"color\":\"#E5ECF6\",\"width\":0.5},\"pattern\":{\"fillmode\":\"overlay\",\"size\":10,\"solidity\":0.2}},\"type\":\"barpolar\"}],\"pie\":[{\"automargin\":true,\"type\":\"pie\"}]},\"layout\":{\"autotypenumbers\":\"strict\",\"colorway\":[\"#636efa\",\"#EF553B\",\"#00cc96\",\"#ab63fa\",\"#FFA15A\",\"#19d3f3\",\"#FF6692\",\"#B6E880\",\"#FF97FF\",\"#FECB52\"],\"font\":{\"color\":\"#2a3f5f\"},\"hovermode\":\"closest\",\"hoverlabel\":{\"align\":\"left\"},\"paper_bgcolor\":\"white\",\"plot_bgcolor\":\"#E5ECF6\",\"polar\":{\"bgcolor\":\"#E5ECF6\",\"angularaxis\":{\"gridcolor\":\"white\",\"linecolor\":\"white\",\"ticks\":\"\"},\"radialaxis\":{\"gridcolor\":\"white\",\"linecolor\":\"white\",\"ticks\":\"\"}},\"ternary\":{\"bgcolor\":\"#E5ECF6\",\"aaxis\":{\"gridcolor\":\"white\",\"linecolor\":\"white\",\"ticks\":\"\"},\"baxis\":{\"gridcolor\":\"white\",\"linecolor\":\"white\",\"ticks\":\"\"},\"caxis\":{\"gridcolor\":\"white\",\"linecolor\":\"white\",\"ticks\":\"\"}},\"coloraxis\":{\"colorbar\":{\"outlinewidth\":0,\"ticks\":\"\"}},\"colorscale\":{\"sequential\":[[0.0,\"#0d0887\"],[0.1111111111111111,\"#46039f\"],[0.2222222222222222,\"#7201a8\"],[0.3333333333333333,\"#9c179e\"],[0.4444444444444444,\"#bd3786\"],[0.5555555555555556,\"#d8576b\"],[0.6666666666666666,\"#ed7953\"],[0.7777777777777778,\"#fb9f3a\"],[0.8888888888888888,\"#fdca26\"],[1.0,\"#f0f921\"]],\"sequentialminus\":[[0.0,\"#0d0887\"],[0.1111111111111111,\"#46039f\"],[0.2222222222222222,\"#7201a8\"],[0.3333333333333333,\"#9c179e\"],[0.4444444444444444,\"#bd3786\"],[0.5555555555555556,\"#d8576b\"],[0.6666666666666666,\"#ed7953\"],[0.7777777777777778,\"#fb9f3a\"],[0.8888888888888888,\"#fdca26\"],[1.0,\"#f0f921\"]],\"diverging\":[[0,\"#8e0152\"],[0.1,\"#c51b7d\"],[0.2,\"#de77ae\"],[0.3,\"#f1b6da\"],[0.4,\"#fde0ef\"],[0.5,\"#f7f7f7\"],[0.6,\"#e6f5d0\"],[0.7,\"#b8e186\"],[0.8,\"#7fbc41\"],[0.9,\"#4d9221\"],[1,\"#276419\"]]},\"xaxis\":{\"gridcolor\":\"white\",\"linecolor\":\"white\",\"ticks\":\"\",\"title\":{\"standoff\":15},\"zerolinecolor\":\"white\",\"automargin\":true,\"zerolinewidth\":2},\"yaxis\":{\"gridcolor\":\"white\",\"linecolor\":\"white\",\"ticks\":\"\",\"title\":{\"standoff\":15},\"zerolinecolor\":\"white\",\"automargin\":true,\"zerolinewidth\":2},\"scene\":{\"xaxis\":{\"backgroundcolor\":\"#E5ECF6\",\"gridcolor\":\"white\",\"linecolor\":\"white\",\"showbackground\":true,\"ticks\":\"\",\"zerolinecolor\":\"white\",\"gridwidth\":2},\"yaxis\":{\"backgroundcolor\":\"#E5ECF6\",\"gridcolor\":\"white\",\"linecolor\":\"white\",\"showbackground\":true,\"ticks\":\"\",\"zerolinecolor\":\"white\",\"gridwidth\":2},\"zaxis\":{\"backgroundcolor\":\"#E5ECF6\",\"gridcolor\":\"white\",\"linecolor\":\"white\",\"showbackground\":true,\"ticks\":\"\",\"zerolinecolor\":\"white\",\"gridwidth\":2}},\"shapedefaults\":{\"line\":{\"color\":\"#2a3f5f\"}},\"annotationdefaults\":{\"arrowcolor\":\"#2a3f5f\",\"arrowhead\":0,\"arrowwidth\":1},\"geo\":{\"bgcolor\":\"white\",\"landcolor\":\"#E5ECF6\",\"subunitcolor\":\"white\",\"showland\":true,\"showlakes\":true,\"lakecolor\":\"white\"},\"title\":{\"x\":0.05},\"mapbox\":{\"style\":\"light\"}}},\"title\":{\"text\":\"Equity Curve\"},\"xaxis\":{\"title\":{\"text\":\"No. of Trade\"}},\"yaxis\":{\"title\":{\"text\":\"Cumulative P&L\"}}},                        {\"responsive\": true}                    ).then(function(){\n                            \nvar gd = document.getElementById('c1c6b918-ebc2-407e-a8f3-57c4af762d30');\nvar x = new MutationObserver(function (mutations, observer) {{\n        var display = window.getComputedStyle(gd).display;\n        if (!display || display === 'none') {{\n            console.log([gd, 'removed!']);\n            Plotly.purge(gd);\n            observer.disconnect();\n        }}\n}});\n\n// Listen for the removal of the full notebook cells\nvar notebookContainer = gd.closest('#notebook-container');\nif (notebookContainer) {{\n    x.observe(notebookContainer, {childList: true});\n}}\n\n// Listen for the clearing of the current output cell\nvar outputEl = gd.closest('.output');\nif (outputEl) {{\n    x.observe(outputEl, {childList: true});\n}}\n\n                        })                };                });            </script>        </div>"
     },
     "metadata": {},
     "output_type": "display_data"
    }
   ],
   "source": [
    "bt.plot_cumpnl('SBIN').show()"
   ]
  },
  {
   "cell_type": "code",
   "execution_count": null,
   "outputs": [],
   "source": [],
   "metadata": {
    "collapsed": false
   },
   "id": "71399c36aa85902c"
  }
 ],
 "metadata": {
  "kernelspec": {
   "display_name": "Python 3 (ipykernel)",
   "language": "python",
   "name": "python3"
  },
  "language_info": {
   "codemirror_mode": {
    "name": "ipython",
    "version": 3
   },
   "file_extension": ".py",
   "mimetype": "text/x-python",
   "name": "python",
   "nbconvert_exporter": "python",
   "pygments_lexer": "ipython3",
   "version": "3.10.6"
  }
 },
 "nbformat": 4,
 "nbformat_minor": 5
}
