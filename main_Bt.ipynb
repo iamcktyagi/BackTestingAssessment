{
 "cells": [
  {
   "cell_type": "code",
   "execution_count": 1,
   "id": "5afc395a273467fc",
   "metadata": {
    "ExecuteTime": {
     "end_time": "2023-08-27T07:18:39.341157500Z",
     "start_time": "2023-08-27T07:18:39.297838500Z"
    },
    "collapsed": false,
    "jupyter": {
     "outputs_hidden": false
    }
   },
   "outputs": [],
   "source": [
    "from BtAssessmentMum import BT\n"
   ]
  },
  {
   "cell_type": "code",
   "execution_count": 2,
   "id": "016f0d82-19e1-4246-858a-d1d19d45f24f",
   "metadata": {
    "ExecuteTime": {
     "end_time": "2023-08-27T07:18:40.047540100Z",
     "start_time": "2023-08-27T07:18:40.000630900Z"
    }
   },
   "outputs": [
    {
     "data": {
      "text/plain": [
       "(100, -1)"
      ]
     },
     "execution_count": 2,
     "metadata": {},
     "output_type": "execute_result"
    }
   ],
   "source": [
    "am = 1000\n",
    "short = 900\n",
    "long = 901\n",
    "bal = am-short\n",
    "pnl = short-long\n",
    "bal,pnl"
   ]
  },
  {
   "cell_type": "code",
   "execution_count": 3,
   "id": "cfae4d64f17af453",
   "metadata": {
    "ExecuteTime": {
     "end_time": "2023-08-27T07:18:52.035963100Z",
     "start_time": "2023-08-27T07:18:50.933392400Z"
    },
    "collapsed": false,
    "jupyter": {
     "outputs_hidden": false
    }
   },
   "outputs": [],
   "source": [
    "\n",
    "# bt = BT(ticker=['HDFCBANK', 'SBIN', 'BAJFINANCE'], start_date='2023-07-28 09-15', end_date='2023-08-31 15-30',\n",
    "#         bar_interval='1min', quantity=1, capital=1000, stop_loss=.2, target=.2, change_bar_interval_at_start=True,\n",
    "#         log=False, pref_sl=True, ordertype='MIS')\n",
    "\n",
    "bt = BT(ticker='SBIN', start_date='2023-07-28 09-15', end_date='2023-08-31 15-30',\n",
    "        bar_interval='1min', quantity=1, capital=617, stop_loss=.2, target=.2, change_bar_interval_at_start=True,\n",
    "        log=False, pref_sl=True, ordertype='MIS')"
   ]
  },
  {
   "cell_type": "code",
   "execution_count": 4,
   "id": "ddb1415bce288c2e",
   "metadata": {
    "ExecuteTime": {
     "end_time": "2023-08-27T07:17:34.933465800Z",
     "start_time": "2023-08-27T07:17:34.405329900Z"
    },
    "collapsed": false,
    "jupyter": {
     "outputs_hidden": false
    }
   },
   "outputs": [
    {
     "name": "stdout",
     "output_type": "stream",
     "text": [
      "Current PnL: 0.4 and Margin remaing is 0.1 and SellPrice is 616.9 and Open is 616.5\n",
      "Current PnL: -0.2 and Margin remaing is 0.1 and SellPrice is 616.9 and Open is 617.1\n"
     ]
    },
    {
     "data": {
      "text/plain": [
       "dict_keys(['SBIN'])"
      ]
     },
     "execution_count": 4,
     "metadata": {},
     "output_type": "execute_result"
    }
   ],
   "source": [
    "\n",
    "returning_dict = bt.run()\n",
    "returning_dict.keys()\n"
   ]
  },
  {
   "cell_type": "code",
   "execution_count": 5,
   "id": "5ddfe9a5a7436345",
   "metadata": {
    "ExecuteTime": {
     "end_time": "2023-08-27T07:06:14.193340Z",
     "start_time": "2023-08-27T07:06:14.021481600Z"
    },
    "collapsed": false,
    "jupyter": {
     "outputs_hidden": false
    }
   },
   "outputs": [],
   "source": [
    "# returning_dict['HDFCBANK']"
   ]
  },
  {
   "cell_type": "code",
   "execution_count": 6,
   "id": "d23ede854b50226e",
   "metadata": {
    "ExecuteTime": {
     "end_time": "2023-08-27T07:06:14.224601800Z",
     "start_time": "2023-08-27T07:06:14.068360900Z"
    },
    "collapsed": false,
    "jupyter": {
     "outputs_hidden": false
    }
   },
   "outputs": [
    {
     "data": {
      "text/html": [
       "<div>\n",
       "<style scoped>\n",
       "    .dataframe tbody tr th:only-of-type {\n",
       "        vertical-align: middle;\n",
       "    }\n",
       "\n",
       "    .dataframe tbody tr th {\n",
       "        vertical-align: top;\n",
       "    }\n",
       "\n",
       "    .dataframe thead th {\n",
       "        text-align: right;\n",
       "    }\n",
       "</style>\n",
       "<table border=\"1\" class=\"dataframe\">\n",
       "  <thead>\n",
       "    <tr style=\"text-align: right;\">\n",
       "      <th></th>\n",
       "      <th>Ticker</th>\n",
       "      <th>OrderDateTime</th>\n",
       "      <th>InstrumentPrice</th>\n",
       "      <th>Quantity</th>\n",
       "      <th>OrderPrice</th>\n",
       "      <th>TPPrice</th>\n",
       "      <th>SLPrice</th>\n",
       "      <th>OrderSide</th>\n",
       "      <th>Status</th>\n",
       "      <th>Reason</th>\n",
       "      <th>AmountRemaing</th>\n",
       "    </tr>\n",
       "  </thead>\n",
       "  <tbody>\n",
       "    <tr>\n",
       "      <th>0</th>\n",
       "      <td>SBIN</td>\n",
       "      <td>2023-07-28 09:35:00</td>\n",
       "      <td>616.9</td>\n",
       "      <td>1</td>\n",
       "      <td>616.9</td>\n",
       "      <td>615.65</td>\n",
       "      <td>618.15</td>\n",
       "      <td>Short</td>\n",
       "      <td>Running</td>\n",
       "      <td>Entry</td>\n",
       "      <td>0.1</td>\n",
       "    </tr>\n",
       "    <tr>\n",
       "      <th>1</th>\n",
       "      <td>SBIN</td>\n",
       "      <td>2023-07-28 09:37:00</td>\n",
       "      <td>617.1</td>\n",
       "      <td>1</td>\n",
       "      <td>617.1</td>\n",
       "      <td>615.65</td>\n",
       "      <td>618.15</td>\n",
       "      <td>Long</td>\n",
       "      <td>Closed</td>\n",
       "      <td>Margin Exceeded</td>\n",
       "      <td>617.0</td>\n",
       "    </tr>\n",
       "  </tbody>\n",
       "</table>\n",
       "</div>"
      ],
      "text/plain": [
       "  Ticker       OrderDateTime  InstrumentPrice  Quantity  OrderPrice  TPPrice  \\\n",
       "0   SBIN 2023-07-28 09:35:00            616.9         1       616.9   615.65   \n",
       "1   SBIN 2023-07-28 09:37:00            617.1         1       617.1   615.65   \n",
       "\n",
       "   SLPrice OrderSide   Status           Reason  AmountRemaing  \n",
       "0   618.15     Short  Running            Entry            0.1  \n",
       "1   618.15      Long   Closed  Margin Exceeded          617.0  "
      ]
     },
     "execution_count": 6,
     "metadata": {},
     "output_type": "execute_result"
    }
   ],
   "source": [
    "returning_dict['SBIN']"
   ]
  },
  {
   "cell_type": "code",
   "execution_count": 7,
   "id": "1f35fdf7b1bf817c",
   "metadata": {
    "ExecuteTime": {
     "end_time": "2023-08-27T07:06:14.390245700Z",
     "start_time": "2023-08-27T07:06:14.130855800Z"
    },
    "collapsed": false,
    "jupyter": {
     "outputs_hidden": false
    }
   },
   "outputs": [],
   "source": [
    "# returning_dict['BAJFINANCE']"
   ]
  },
  {
   "cell_type": "code",
   "execution_count": 8,
   "id": "72dda66ed871ab1b",
   "metadata": {
    "ExecuteTime": {
     "end_time": "2023-08-27T07:06:14.390245700Z",
     "start_time": "2023-08-27T07:06:14.162095800Z"
    },
    "collapsed": false,
    "jupyter": {
     "outputs_hidden": false
    }
   },
   "outputs": [],
   "source": [
    "# for x in returning_dict.values():\n",
    "    # print(x)"
   ]
  }
 ],
 "metadata": {
  "kernelspec": {
   "display_name": "Python 3 (ipykernel)",
   "language": "python",
   "name": "python3"
  },
  "language_info": {
   "codemirror_mode": {
    "name": "ipython",
    "version": 3
   },
   "file_extension": ".py",
   "mimetype": "text/x-python",
   "name": "python",
   "nbconvert_exporter": "python",
   "pygments_lexer": "ipython3",
   "version": "3.10.6"
  }
 },
 "nbformat": 4,
 "nbformat_minor": 5
}
