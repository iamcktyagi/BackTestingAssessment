{
 "cells": [
  {
   "cell_type": "code",
   "execution_count": 6,
   "outputs": [],
   "source": [
    "from BtAssessmentMum import BT\n"
   ],
   "metadata": {
    "collapsed": false,
    "ExecuteTime": {
     "end_time": "2023-08-27T05:31:17.726303Z",
     "start_time": "2023-08-27T05:31:17.647755400Z"
    }
   },
   "id": "5afc395a273467fc"
  },
  {
   "cell_type": "code",
   "execution_count": 7,
   "outputs": [],
   "source": [
    "\n",
    "bt = BT(ticker=['HDFCBANK', 'SBIN', 'BAJFINANCE'], start_date='2023-07-28 09-15', end_date='2023-08-31 15-30',\n",
    "        bar_interval='1min', quantity=1, capital=100000, stop_loss=.2, target=.2, change_bar_interval_at_start=True,\n",
    "        log=False, pref_sl=True, ordertype='MIS')\n"
   ],
   "metadata": {
    "collapsed": false,
    "ExecuteTime": {
     "end_time": "2023-08-27T05:31:17.726303Z",
     "start_time": "2023-08-27T05:31:17.663383800Z"
    }
   },
   "id": "cfae4d64f17af453"
  },
  {
   "cell_type": "code",
   "execution_count": 8,
   "outputs": [
    {
     "data": {
      "text/plain": "dict_keys(['HDFCBANK', 'SBIN', 'BAJFINANCE'])"
     },
     "execution_count": 8,
     "metadata": {},
     "output_type": "execute_result"
    }
   ],
   "source": [
    "\n",
    "returning_dict = bt.run()\n",
    "returning_dict.keys()\n"
   ],
   "metadata": {
    "collapsed": false,
    "ExecuteTime": {
     "end_time": "2023-08-27T05:31:18.666268500Z",
     "start_time": "2023-08-27T05:31:17.679006900Z"
    }
   },
   "id": "ddb1415bce288c2e"
  },
  {
   "cell_type": "code",
   "execution_count": 9,
   "outputs": [
    {
     "data": {
      "text/plain": "       Ticker       OrderDateTime  InstrumentPrice  Quantity  OrderPrice  \\\n0    HDFCBANK 2023-07-28 09:40:00          1659.00         1     1659.00   \n1    HDFCBANK 2023-07-28 09:41:00          1658.10         1     1658.10   \n2    HDFCBANK 2023-07-28 09:53:00          1658.60         1     1658.60   \n3    HDFCBANK 2023-07-28 09:58:00          1658.60         1     1658.60   \n4    HDFCBANK 2023-07-28 10:27:00          1655.15         1     1655.15   \n..        ...                 ...              ...       ...         ...   \n523  HDFCBANK 2023-08-11 12:38:00          1627.30         1     1627.30   \n524  HDFCBANK 2023-08-11 13:03:00          1627.85         1     1627.85   \n525  HDFCBANK 2023-08-11 13:06:00          1627.00         1     1627.00   \n526  HDFCBANK 2023-08-11 13:07:00          1628.50         1     1628.50   \n527  HDFCBANK 2023-08-11 13:10:00          1627.65         1     1627.65   \n\n     TPPrice  SLPrice OrderSide   Status          Reason  AmountRemaing  \n0    1655.70  1662.30     Short  Running           Entry       98341.00  \n1    1655.70  1662.30      Long   Closed  Trend Reversed       99999.10  \n2    1655.30  1661.90     Short  Running           Entry       98340.50  \n3    1655.30  1661.90      Long   Closed  Trend Reversed       99999.10  \n4    1651.85  1658.45     Short  Running           Entry       98343.95  \n..       ...      ...       ...      ...             ...            ...  \n523  1624.20  1630.70      Long   Closed  Trend Reversed       99943.20  \n524  1624.60  1631.10     Short  Running           Entry       98315.35  \n525  1624.60  1631.10      Long   Closed  Trend Reversed       99942.35  \n526  1625.25  1631.75     Short  Running           Entry       98313.85  \n527  1625.25  1631.75      Long   Closed  Trend Reversed       99941.50  \n\n[528 rows x 11 columns]",
      "text/html": "<div>\n<style scoped>\n    .dataframe tbody tr th:only-of-type {\n        vertical-align: middle;\n    }\n\n    .dataframe tbody tr th {\n        vertical-align: top;\n    }\n\n    .dataframe thead th {\n        text-align: right;\n    }\n</style>\n<table border=\"1\" class=\"dataframe\">\n  <thead>\n    <tr style=\"text-align: right;\">\n      <th></th>\n      <th>Ticker</th>\n      <th>OrderDateTime</th>\n      <th>InstrumentPrice</th>\n      <th>Quantity</th>\n      <th>OrderPrice</th>\n      <th>TPPrice</th>\n      <th>SLPrice</th>\n      <th>OrderSide</th>\n      <th>Status</th>\n      <th>Reason</th>\n      <th>AmountRemaing</th>\n    </tr>\n  </thead>\n  <tbody>\n    <tr>\n      <th>0</th>\n      <td>HDFCBANK</td>\n      <td>2023-07-28 09:40:00</td>\n      <td>1659.00</td>\n      <td>1</td>\n      <td>1659.00</td>\n      <td>1655.70</td>\n      <td>1662.30</td>\n      <td>Short</td>\n      <td>Running</td>\n      <td>Entry</td>\n      <td>98341.00</td>\n    </tr>\n    <tr>\n      <th>1</th>\n      <td>HDFCBANK</td>\n      <td>2023-07-28 09:41:00</td>\n      <td>1658.10</td>\n      <td>1</td>\n      <td>1658.10</td>\n      <td>1655.70</td>\n      <td>1662.30</td>\n      <td>Long</td>\n      <td>Closed</td>\n      <td>Trend Reversed</td>\n      <td>99999.10</td>\n    </tr>\n    <tr>\n      <th>2</th>\n      <td>HDFCBANK</td>\n      <td>2023-07-28 09:53:00</td>\n      <td>1658.60</td>\n      <td>1</td>\n      <td>1658.60</td>\n      <td>1655.30</td>\n      <td>1661.90</td>\n      <td>Short</td>\n      <td>Running</td>\n      <td>Entry</td>\n      <td>98340.50</td>\n    </tr>\n    <tr>\n      <th>3</th>\n      <td>HDFCBANK</td>\n      <td>2023-07-28 09:58:00</td>\n      <td>1658.60</td>\n      <td>1</td>\n      <td>1658.60</td>\n      <td>1655.30</td>\n      <td>1661.90</td>\n      <td>Long</td>\n      <td>Closed</td>\n      <td>Trend Reversed</td>\n      <td>99999.10</td>\n    </tr>\n    <tr>\n      <th>4</th>\n      <td>HDFCBANK</td>\n      <td>2023-07-28 10:27:00</td>\n      <td>1655.15</td>\n      <td>1</td>\n      <td>1655.15</td>\n      <td>1651.85</td>\n      <td>1658.45</td>\n      <td>Short</td>\n      <td>Running</td>\n      <td>Entry</td>\n      <td>98343.95</td>\n    </tr>\n    <tr>\n      <th>...</th>\n      <td>...</td>\n      <td>...</td>\n      <td>...</td>\n      <td>...</td>\n      <td>...</td>\n      <td>...</td>\n      <td>...</td>\n      <td>...</td>\n      <td>...</td>\n      <td>...</td>\n      <td>...</td>\n    </tr>\n    <tr>\n      <th>523</th>\n      <td>HDFCBANK</td>\n      <td>2023-08-11 12:38:00</td>\n      <td>1627.30</td>\n      <td>1</td>\n      <td>1627.30</td>\n      <td>1624.20</td>\n      <td>1630.70</td>\n      <td>Long</td>\n      <td>Closed</td>\n      <td>Trend Reversed</td>\n      <td>99943.20</td>\n    </tr>\n    <tr>\n      <th>524</th>\n      <td>HDFCBANK</td>\n      <td>2023-08-11 13:03:00</td>\n      <td>1627.85</td>\n      <td>1</td>\n      <td>1627.85</td>\n      <td>1624.60</td>\n      <td>1631.10</td>\n      <td>Short</td>\n      <td>Running</td>\n      <td>Entry</td>\n      <td>98315.35</td>\n    </tr>\n    <tr>\n      <th>525</th>\n      <td>HDFCBANK</td>\n      <td>2023-08-11 13:06:00</td>\n      <td>1627.00</td>\n      <td>1</td>\n      <td>1627.00</td>\n      <td>1624.60</td>\n      <td>1631.10</td>\n      <td>Long</td>\n      <td>Closed</td>\n      <td>Trend Reversed</td>\n      <td>99942.35</td>\n    </tr>\n    <tr>\n      <th>526</th>\n      <td>HDFCBANK</td>\n      <td>2023-08-11 13:07:00</td>\n      <td>1628.50</td>\n      <td>1</td>\n      <td>1628.50</td>\n      <td>1625.25</td>\n      <td>1631.75</td>\n      <td>Short</td>\n      <td>Running</td>\n      <td>Entry</td>\n      <td>98313.85</td>\n    </tr>\n    <tr>\n      <th>527</th>\n      <td>HDFCBANK</td>\n      <td>2023-08-11 13:10:00</td>\n      <td>1627.65</td>\n      <td>1</td>\n      <td>1627.65</td>\n      <td>1625.25</td>\n      <td>1631.75</td>\n      <td>Long</td>\n      <td>Closed</td>\n      <td>Trend Reversed</td>\n      <td>99941.50</td>\n    </tr>\n  </tbody>\n</table>\n<p>528 rows × 11 columns</p>\n</div>"
     },
     "execution_count": 9,
     "metadata": {},
     "output_type": "execute_result"
    }
   ],
   "source": [
    "returning_dict['HDFCBANK']"
   ],
   "metadata": {
    "collapsed": false,
    "ExecuteTime": {
     "end_time": "2023-08-27T05:31:18.744797400Z",
     "start_time": "2023-08-27T05:31:18.666268500Z"
    }
   },
   "id": "5ddfe9a5a7436345"
  },
  {
   "cell_type": "code",
   "execution_count": 10,
   "outputs": [
    {
     "data": {
      "text/plain": "    Ticker       OrderDateTime  InstrumentPrice  Quantity  OrderPrice  \\\n0     SBIN 2023-07-28 09:35:00           616.90         1      616.90   \n1     SBIN 2023-07-28 09:39:00           618.15         1      618.15   \n2     SBIN 2023-07-28 09:40:00           618.05         1      618.05   \n3     SBIN 2023-07-28 09:45:00           618.00         1      618.00   \n4     SBIN 2023-07-28 09:47:00           618.05         1      618.05   \n..     ...                 ...              ...       ...         ...   \n507   SBIN 2023-08-11 12:49:00           576.60         1      576.60   \n508   SBIN 2023-08-11 13:03:00           577.30         1      577.30   \n509   SBIN 2023-08-11 13:07:00           578.45         1      578.45   \n510   SBIN 2023-08-11 13:08:00           578.10         1      578.10   \n511   SBIN 2023-08-11 13:12:00           577.45         1      577.45   \n\n     TPPrice  SLPrice OrderSide   Status          Reason  AmountRemaing  \n0     615.65   618.15     Short  Running           Entry       99383.10  \n1     615.65   618.15      Long   Closed          SL Hit      100001.25  \n2     616.80   619.30     Short  Running           Entry       99383.20  \n3     616.80   619.30      Long   Closed  Trend Reversed      100001.20  \n4     616.80   619.30     Short  Running           Entry       99383.15  \n..       ...      ...       ...      ...             ...            ...  \n507   576.00   578.30      Long   Closed  Trend Reversed       99989.25  \n508   576.15   578.45     Short  Running           Entry       99411.95  \n509   576.15   578.45      Long   Closed          SL Hit       99990.40  \n510   576.95   579.25     Short  Running           Entry       99412.30  \n511   576.95   579.25      Long   Closed  Trend Reversed       99989.75  \n\n[512 rows x 11 columns]",
      "text/html": "<div>\n<style scoped>\n    .dataframe tbody tr th:only-of-type {\n        vertical-align: middle;\n    }\n\n    .dataframe tbody tr th {\n        vertical-align: top;\n    }\n\n    .dataframe thead th {\n        text-align: right;\n    }\n</style>\n<table border=\"1\" class=\"dataframe\">\n  <thead>\n    <tr style=\"text-align: right;\">\n      <th></th>\n      <th>Ticker</th>\n      <th>OrderDateTime</th>\n      <th>InstrumentPrice</th>\n      <th>Quantity</th>\n      <th>OrderPrice</th>\n      <th>TPPrice</th>\n      <th>SLPrice</th>\n      <th>OrderSide</th>\n      <th>Status</th>\n      <th>Reason</th>\n      <th>AmountRemaing</th>\n    </tr>\n  </thead>\n  <tbody>\n    <tr>\n      <th>0</th>\n      <td>SBIN</td>\n      <td>2023-07-28 09:35:00</td>\n      <td>616.90</td>\n      <td>1</td>\n      <td>616.90</td>\n      <td>615.65</td>\n      <td>618.15</td>\n      <td>Short</td>\n      <td>Running</td>\n      <td>Entry</td>\n      <td>99383.10</td>\n    </tr>\n    <tr>\n      <th>1</th>\n      <td>SBIN</td>\n      <td>2023-07-28 09:39:00</td>\n      <td>618.15</td>\n      <td>1</td>\n      <td>618.15</td>\n      <td>615.65</td>\n      <td>618.15</td>\n      <td>Long</td>\n      <td>Closed</td>\n      <td>SL Hit</td>\n      <td>100001.25</td>\n    </tr>\n    <tr>\n      <th>2</th>\n      <td>SBIN</td>\n      <td>2023-07-28 09:40:00</td>\n      <td>618.05</td>\n      <td>1</td>\n      <td>618.05</td>\n      <td>616.80</td>\n      <td>619.30</td>\n      <td>Short</td>\n      <td>Running</td>\n      <td>Entry</td>\n      <td>99383.20</td>\n    </tr>\n    <tr>\n      <th>3</th>\n      <td>SBIN</td>\n      <td>2023-07-28 09:45:00</td>\n      <td>618.00</td>\n      <td>1</td>\n      <td>618.00</td>\n      <td>616.80</td>\n      <td>619.30</td>\n      <td>Long</td>\n      <td>Closed</td>\n      <td>Trend Reversed</td>\n      <td>100001.20</td>\n    </tr>\n    <tr>\n      <th>4</th>\n      <td>SBIN</td>\n      <td>2023-07-28 09:47:00</td>\n      <td>618.05</td>\n      <td>1</td>\n      <td>618.05</td>\n      <td>616.80</td>\n      <td>619.30</td>\n      <td>Short</td>\n      <td>Running</td>\n      <td>Entry</td>\n      <td>99383.15</td>\n    </tr>\n    <tr>\n      <th>...</th>\n      <td>...</td>\n      <td>...</td>\n      <td>...</td>\n      <td>...</td>\n      <td>...</td>\n      <td>...</td>\n      <td>...</td>\n      <td>...</td>\n      <td>...</td>\n      <td>...</td>\n      <td>...</td>\n    </tr>\n    <tr>\n      <th>507</th>\n      <td>SBIN</td>\n      <td>2023-08-11 12:49:00</td>\n      <td>576.60</td>\n      <td>1</td>\n      <td>576.60</td>\n      <td>576.00</td>\n      <td>578.30</td>\n      <td>Long</td>\n      <td>Closed</td>\n      <td>Trend Reversed</td>\n      <td>99989.25</td>\n    </tr>\n    <tr>\n      <th>508</th>\n      <td>SBIN</td>\n      <td>2023-08-11 13:03:00</td>\n      <td>577.30</td>\n      <td>1</td>\n      <td>577.30</td>\n      <td>576.15</td>\n      <td>578.45</td>\n      <td>Short</td>\n      <td>Running</td>\n      <td>Entry</td>\n      <td>99411.95</td>\n    </tr>\n    <tr>\n      <th>509</th>\n      <td>SBIN</td>\n      <td>2023-08-11 13:07:00</td>\n      <td>578.45</td>\n      <td>1</td>\n      <td>578.45</td>\n      <td>576.15</td>\n      <td>578.45</td>\n      <td>Long</td>\n      <td>Closed</td>\n      <td>SL Hit</td>\n      <td>99990.40</td>\n    </tr>\n    <tr>\n      <th>510</th>\n      <td>SBIN</td>\n      <td>2023-08-11 13:08:00</td>\n      <td>578.10</td>\n      <td>1</td>\n      <td>578.10</td>\n      <td>576.95</td>\n      <td>579.25</td>\n      <td>Short</td>\n      <td>Running</td>\n      <td>Entry</td>\n      <td>99412.30</td>\n    </tr>\n    <tr>\n      <th>511</th>\n      <td>SBIN</td>\n      <td>2023-08-11 13:12:00</td>\n      <td>577.45</td>\n      <td>1</td>\n      <td>577.45</td>\n      <td>576.95</td>\n      <td>579.25</td>\n      <td>Long</td>\n      <td>Closed</td>\n      <td>Trend Reversed</td>\n      <td>99989.75</td>\n    </tr>\n  </tbody>\n</table>\n<p>512 rows × 11 columns</p>\n</div>"
     },
     "execution_count": 10,
     "metadata": {},
     "output_type": "execute_result"
    }
   ],
   "source": [
    "returning_dict['SBIN']"
   ],
   "metadata": {
    "collapsed": false,
    "ExecuteTime": {
     "end_time": "2023-08-27T05:31:18.823317600Z",
     "start_time": "2023-08-27T05:31:18.697510400Z"
    }
   },
   "id": "d23ede854b50226e"
  },
  {
   "cell_type": "code",
   "execution_count": 11,
   "outputs": [
    {
     "data": {
      "text/plain": "         Ticker       OrderDateTime  InstrumentPrice  Quantity  OrderPrice  \\\n0    BAJFINANCE 2023-07-28 09:40:00          7285.25         1     7285.25   \n1    BAJFINANCE 2023-07-28 09:42:00          7280.00         1     7280.00   \n2    BAJFINANCE 2023-07-28 09:43:00          7284.00         1     7284.00   \n3    BAJFINANCE 2023-07-28 09:44:00          7282.00         1     7282.00   \n4    BAJFINANCE 2023-07-28 09:55:00          7288.85         1     7288.85   \n..          ...                 ...              ...       ...         ...   \n537  BAJFINANCE 2023-08-11 13:10:00          7129.35         1     7129.35   \n538  BAJFINANCE 2023-08-11 13:11:00          7131.80         1     7131.80   \n539  BAJFINANCE 2023-08-11 13:12:00          7129.85         1     7129.85   \n540  BAJFINANCE 2023-08-11 13:15:00          7128.85         1     7128.85   \n541  BAJFINANCE 2023-08-11 13:16:00          7128.85         1     7128.85   \n\n     TPPrice  SLPrice OrderSide   Status          Reason  AmountRemaing  \n0    7270.70  7299.80     Short  Running           Entry       92714.75  \n1    7270.70  7299.80      Long   Closed  Trend Reversed       99994.75  \n2    7269.45  7298.55     Short  Running           Entry       92710.75  \n3    7269.45  7298.55      Long   Closed  Trend Reversed       99992.75  \n4    7274.25  7303.45     Short  Running           Entry       92703.90  \n..       ...      ...       ...      ...             ...            ...  \n537  7114.75  7143.25      Long   Closed  Trend Reversed       99685.45  \n538  7117.55  7146.05     Short  Running           Entry       92553.65  \n539  7117.55  7146.05      Long   Closed  Trend Reversed       99683.50  \n540  7114.60  7143.10     Short  Running           Entry       92554.65  \n541  7114.60  7143.10      Long   Closed  Trend Reversed       99683.50  \n\n[542 rows x 11 columns]",
      "text/html": "<div>\n<style scoped>\n    .dataframe tbody tr th:only-of-type {\n        vertical-align: middle;\n    }\n\n    .dataframe tbody tr th {\n        vertical-align: top;\n    }\n\n    .dataframe thead th {\n        text-align: right;\n    }\n</style>\n<table border=\"1\" class=\"dataframe\">\n  <thead>\n    <tr style=\"text-align: right;\">\n      <th></th>\n      <th>Ticker</th>\n      <th>OrderDateTime</th>\n      <th>InstrumentPrice</th>\n      <th>Quantity</th>\n      <th>OrderPrice</th>\n      <th>TPPrice</th>\n      <th>SLPrice</th>\n      <th>OrderSide</th>\n      <th>Status</th>\n      <th>Reason</th>\n      <th>AmountRemaing</th>\n    </tr>\n  </thead>\n  <tbody>\n    <tr>\n      <th>0</th>\n      <td>BAJFINANCE</td>\n      <td>2023-07-28 09:40:00</td>\n      <td>7285.25</td>\n      <td>1</td>\n      <td>7285.25</td>\n      <td>7270.70</td>\n      <td>7299.80</td>\n      <td>Short</td>\n      <td>Running</td>\n      <td>Entry</td>\n      <td>92714.75</td>\n    </tr>\n    <tr>\n      <th>1</th>\n      <td>BAJFINANCE</td>\n      <td>2023-07-28 09:42:00</td>\n      <td>7280.00</td>\n      <td>1</td>\n      <td>7280.00</td>\n      <td>7270.70</td>\n      <td>7299.80</td>\n      <td>Long</td>\n      <td>Closed</td>\n      <td>Trend Reversed</td>\n      <td>99994.75</td>\n    </tr>\n    <tr>\n      <th>2</th>\n      <td>BAJFINANCE</td>\n      <td>2023-07-28 09:43:00</td>\n      <td>7284.00</td>\n      <td>1</td>\n      <td>7284.00</td>\n      <td>7269.45</td>\n      <td>7298.55</td>\n      <td>Short</td>\n      <td>Running</td>\n      <td>Entry</td>\n      <td>92710.75</td>\n    </tr>\n    <tr>\n      <th>3</th>\n      <td>BAJFINANCE</td>\n      <td>2023-07-28 09:44:00</td>\n      <td>7282.00</td>\n      <td>1</td>\n      <td>7282.00</td>\n      <td>7269.45</td>\n      <td>7298.55</td>\n      <td>Long</td>\n      <td>Closed</td>\n      <td>Trend Reversed</td>\n      <td>99992.75</td>\n    </tr>\n    <tr>\n      <th>4</th>\n      <td>BAJFINANCE</td>\n      <td>2023-07-28 09:55:00</td>\n      <td>7288.85</td>\n      <td>1</td>\n      <td>7288.85</td>\n      <td>7274.25</td>\n      <td>7303.45</td>\n      <td>Short</td>\n      <td>Running</td>\n      <td>Entry</td>\n      <td>92703.90</td>\n    </tr>\n    <tr>\n      <th>...</th>\n      <td>...</td>\n      <td>...</td>\n      <td>...</td>\n      <td>...</td>\n      <td>...</td>\n      <td>...</td>\n      <td>...</td>\n      <td>...</td>\n      <td>...</td>\n      <td>...</td>\n      <td>...</td>\n    </tr>\n    <tr>\n      <th>537</th>\n      <td>BAJFINANCE</td>\n      <td>2023-08-11 13:10:00</td>\n      <td>7129.35</td>\n      <td>1</td>\n      <td>7129.35</td>\n      <td>7114.75</td>\n      <td>7143.25</td>\n      <td>Long</td>\n      <td>Closed</td>\n      <td>Trend Reversed</td>\n      <td>99685.45</td>\n    </tr>\n    <tr>\n      <th>538</th>\n      <td>BAJFINANCE</td>\n      <td>2023-08-11 13:11:00</td>\n      <td>7131.80</td>\n      <td>1</td>\n      <td>7131.80</td>\n      <td>7117.55</td>\n      <td>7146.05</td>\n      <td>Short</td>\n      <td>Running</td>\n      <td>Entry</td>\n      <td>92553.65</td>\n    </tr>\n    <tr>\n      <th>539</th>\n      <td>BAJFINANCE</td>\n      <td>2023-08-11 13:12:00</td>\n      <td>7129.85</td>\n      <td>1</td>\n      <td>7129.85</td>\n      <td>7117.55</td>\n      <td>7146.05</td>\n      <td>Long</td>\n      <td>Closed</td>\n      <td>Trend Reversed</td>\n      <td>99683.50</td>\n    </tr>\n    <tr>\n      <th>540</th>\n      <td>BAJFINANCE</td>\n      <td>2023-08-11 13:15:00</td>\n      <td>7128.85</td>\n      <td>1</td>\n      <td>7128.85</td>\n      <td>7114.60</td>\n      <td>7143.10</td>\n      <td>Short</td>\n      <td>Running</td>\n      <td>Entry</td>\n      <td>92554.65</td>\n    </tr>\n    <tr>\n      <th>541</th>\n      <td>BAJFINANCE</td>\n      <td>2023-08-11 13:16:00</td>\n      <td>7128.85</td>\n      <td>1</td>\n      <td>7128.85</td>\n      <td>7114.60</td>\n      <td>7143.10</td>\n      <td>Long</td>\n      <td>Closed</td>\n      <td>Trend Reversed</td>\n      <td>99683.50</td>\n    </tr>\n  </tbody>\n</table>\n<p>542 rows × 11 columns</p>\n</div>"
     },
     "execution_count": 11,
     "metadata": {},
     "output_type": "execute_result"
    }
   ],
   "source": [
    "returning_dict['BAJFINANCE']"
   ],
   "metadata": {
    "collapsed": false,
    "ExecuteTime": {
     "end_time": "2023-08-27T05:31:18.838957400Z",
     "start_time": "2023-08-27T05:31:18.744797400Z"
    }
   },
   "id": "1f35fdf7b1bf817c"
  },
  {
   "cell_type": "code",
   "execution_count": 12,
   "outputs": [
    {
     "name": "stdout",
     "output_type": "stream",
     "text": [
      "       Ticker       OrderDateTime  InstrumentPrice  Quantity  OrderPrice  \\\n",
      "0    HDFCBANK 2023-07-28 09:40:00          1659.00         1     1659.00   \n",
      "1    HDFCBANK 2023-07-28 09:41:00          1658.10         1     1658.10   \n",
      "2    HDFCBANK 2023-07-28 09:53:00          1658.60         1     1658.60   \n",
      "3    HDFCBANK 2023-07-28 09:58:00          1658.60         1     1658.60   \n",
      "4    HDFCBANK 2023-07-28 10:27:00          1655.15         1     1655.15   \n",
      "..        ...                 ...              ...       ...         ...   \n",
      "523  HDFCBANK 2023-08-11 12:38:00          1627.30         1     1627.30   \n",
      "524  HDFCBANK 2023-08-11 13:03:00          1627.85         1     1627.85   \n",
      "525  HDFCBANK 2023-08-11 13:06:00          1627.00         1     1627.00   \n",
      "526  HDFCBANK 2023-08-11 13:07:00          1628.50         1     1628.50   \n",
      "527  HDFCBANK 2023-08-11 13:10:00          1627.65         1     1627.65   \n",
      "\n",
      "     TPPrice  SLPrice OrderSide   Status          Reason  AmountRemaing  \n",
      "0    1655.70  1662.30     Short  Running           Entry       98341.00  \n",
      "1    1655.70  1662.30      Long   Closed  Trend Reversed       99999.10  \n",
      "2    1655.30  1661.90     Short  Running           Entry       98340.50  \n",
      "3    1655.30  1661.90      Long   Closed  Trend Reversed       99999.10  \n",
      "4    1651.85  1658.45     Short  Running           Entry       98343.95  \n",
      "..       ...      ...       ...      ...             ...            ...  \n",
      "523  1624.20  1630.70      Long   Closed  Trend Reversed       99943.20  \n",
      "524  1624.60  1631.10     Short  Running           Entry       98315.35  \n",
      "525  1624.60  1631.10      Long   Closed  Trend Reversed       99942.35  \n",
      "526  1625.25  1631.75     Short  Running           Entry       98313.85  \n",
      "527  1625.25  1631.75      Long   Closed  Trend Reversed       99941.50  \n",
      "\n",
      "[528 rows x 11 columns]\n",
      "    Ticker       OrderDateTime  InstrumentPrice  Quantity  OrderPrice  \\\n",
      "0     SBIN 2023-07-28 09:35:00           616.90         1      616.90   \n",
      "1     SBIN 2023-07-28 09:39:00           618.15         1      618.15   \n",
      "2     SBIN 2023-07-28 09:40:00           618.05         1      618.05   \n",
      "3     SBIN 2023-07-28 09:45:00           618.00         1      618.00   \n",
      "4     SBIN 2023-07-28 09:47:00           618.05         1      618.05   \n",
      "..     ...                 ...              ...       ...         ...   \n",
      "507   SBIN 2023-08-11 12:49:00           576.60         1      576.60   \n",
      "508   SBIN 2023-08-11 13:03:00           577.30         1      577.30   \n",
      "509   SBIN 2023-08-11 13:07:00           578.45         1      578.45   \n",
      "510   SBIN 2023-08-11 13:08:00           578.10         1      578.10   \n",
      "511   SBIN 2023-08-11 13:12:00           577.45         1      577.45   \n",
      "\n",
      "     TPPrice  SLPrice OrderSide   Status          Reason  AmountRemaing  \n",
      "0     615.65   618.15     Short  Running           Entry       99383.10  \n",
      "1     615.65   618.15      Long   Closed          SL Hit      100001.25  \n",
      "2     616.80   619.30     Short  Running           Entry       99383.20  \n",
      "3     616.80   619.30      Long   Closed  Trend Reversed      100001.20  \n",
      "4     616.80   619.30     Short  Running           Entry       99383.15  \n",
      "..       ...      ...       ...      ...             ...            ...  \n",
      "507   576.00   578.30      Long   Closed  Trend Reversed       99989.25  \n",
      "508   576.15   578.45     Short  Running           Entry       99411.95  \n",
      "509   576.15   578.45      Long   Closed          SL Hit       99990.40  \n",
      "510   576.95   579.25     Short  Running           Entry       99412.30  \n",
      "511   576.95   579.25      Long   Closed  Trend Reversed       99989.75  \n",
      "\n",
      "[512 rows x 11 columns]\n",
      "         Ticker       OrderDateTime  InstrumentPrice  Quantity  OrderPrice  \\\n",
      "0    BAJFINANCE 2023-07-28 09:40:00          7285.25         1     7285.25   \n",
      "1    BAJFINANCE 2023-07-28 09:42:00          7280.00         1     7280.00   \n",
      "2    BAJFINANCE 2023-07-28 09:43:00          7284.00         1     7284.00   \n",
      "3    BAJFINANCE 2023-07-28 09:44:00          7282.00         1     7282.00   \n",
      "4    BAJFINANCE 2023-07-28 09:55:00          7288.85         1     7288.85   \n",
      "..          ...                 ...              ...       ...         ...   \n",
      "537  BAJFINANCE 2023-08-11 13:10:00          7129.35         1     7129.35   \n",
      "538  BAJFINANCE 2023-08-11 13:11:00          7131.80         1     7131.80   \n",
      "539  BAJFINANCE 2023-08-11 13:12:00          7129.85         1     7129.85   \n",
      "540  BAJFINANCE 2023-08-11 13:15:00          7128.85         1     7128.85   \n",
      "541  BAJFINANCE 2023-08-11 13:16:00          7128.85         1     7128.85   \n",
      "\n",
      "     TPPrice  SLPrice OrderSide   Status          Reason  AmountRemaing  \n",
      "0    7270.70  7299.80     Short  Running           Entry       92714.75  \n",
      "1    7270.70  7299.80      Long   Closed  Trend Reversed       99994.75  \n",
      "2    7269.45  7298.55     Short  Running           Entry       92710.75  \n",
      "3    7269.45  7298.55      Long   Closed  Trend Reversed       99992.75  \n",
      "4    7274.25  7303.45     Short  Running           Entry       92703.90  \n",
      "..       ...      ...       ...      ...             ...            ...  \n",
      "537  7114.75  7143.25      Long   Closed  Trend Reversed       99685.45  \n",
      "538  7117.55  7146.05     Short  Running           Entry       92553.65  \n",
      "539  7117.55  7146.05      Long   Closed  Trend Reversed       99683.50  \n",
      "540  7114.60  7143.10     Short  Running           Entry       92554.65  \n",
      "541  7114.60  7143.10      Long   Closed  Trend Reversed       99683.50  \n",
      "\n",
      "[542 rows x 11 columns]\n"
     ]
    }
   ],
   "source": [
    "for x in returning_dict.values():\n",
    "    print(x)"
   ],
   "metadata": {
    "collapsed": false,
    "ExecuteTime": {
     "end_time": "2023-08-27T05:31:18.964361800Z",
     "start_time": "2023-08-27T05:31:18.760420500Z"
    }
   },
   "id": "72dda66ed871ab1b"
  }
 ],
 "metadata": {
  "kernelspec": {
   "display_name": "Python 3",
   "language": "python",
   "name": "python3"
  },
  "language_info": {
   "codemirror_mode": {
    "name": "ipython",
    "version": 2
   },
   "file_extension": ".py",
   "mimetype": "text/x-python",
   "name": "python",
   "nbconvert_exporter": "python",
   "pygments_lexer": "ipython2",
   "version": "2.7.6"
  }
 },
 "nbformat": 4,
 "nbformat_minor": 5
}
